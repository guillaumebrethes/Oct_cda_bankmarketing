{
  "cells": [
    {
      "cell_type": "markdown",
      "metadata": {
        "id": "view-in-github",
        "colab_type": "text"
      },
      "source": [
        "<a href=\"https://colab.research.google.com/github/guillaumebrethes/Oct_cda_bankmarketing/blob/main/Sprint_1.ipynb\" target=\"_parent\"><img src=\"https://colab.research.google.com/assets/colab-badge.svg\" alt=\"Open In Colab\"/></a>"
      ]
    },
    {
      "cell_type": "markdown",
      "metadata": {
        "id": "CAOYorwilHH2"
      },
      "source": [
        "# Sprint 1 : Explorations des données / Data Exploration\n",
        "*   Ceci est la premeire étape d'exploartion des données et de la premiere DataViz"
      ]
    },
    {
      "cell_type": "code",
      "execution_count": 206,
      "metadata": {
        "colab": {
          "base_uri": "https://localhost:8080/"
        },
        "id": "KkZGviMiksor",
        "outputId": "2a059b2d-bc2d-4c65-a3a8-f978167cd189"
      },
      "outputs": [
        {
          "output_type": "stream",
          "name": "stdout",
          "text": [
            "Drive already mounted at /content/drive/; to attempt to forcibly remount, call drive.mount(\"/content/drive/\", force_remount=True).\n"
          ]
        }
      ],
      "source": [
        "from google.colab import drive\n",
        "drive.mount('/content/drive/')"
      ]
    },
    {
      "cell_type": "markdown",
      "metadata": {
        "id": "8oZcrRu6nXkZ"
      },
      "source": [
        "\n",
        "# **1.**   Importation des modules / Importing modules\n"
      ]
    },
    {
      "cell_type": "code",
      "execution_count": 207,
      "metadata": {
        "id": "Zx-2Nt6xnSh-"
      },
      "outputs": [],
      "source": [
        "import numpy as np\n",
        "%matplotlib inline\n",
        "import pandas as pd\n",
        "import seaborn as sns\n",
        "import calendar\n",
        "import matplotlib.pyplot as plt\n",
        "\n",
        "df = pd.read_csv(\"/content/drive/MyDrive/DataScientest /Oct_cda_bankmarketing/Guillaume/bank.csv\")"
      ]
    },
    {
      "cell_type": "markdown",
      "metadata": {
        "id": "8JFSvbdPnu1X"
      },
      "source": [
        "# **2.**  Observation de nos données / Data Observation\n",
        "\n"
      ]
    },
    {
      "cell_type": "markdown",
      "metadata": {
        "id": "xqVthXQHJNZw"
      },
      "source": [
        "## **2 - 1** : Etudes préliminaires / Preliminary Steps\n"
      ]
    },
    {
      "cell_type": "code",
      "execution_count": 208,
      "metadata": {
        "colab": {
          "base_uri": "https://localhost:8080/",
          "height": 206
        },
        "id": "jYgyg_3sntPf",
        "outputId": "d356b774-e2d2-411a-98ee-1d48dd8059e1"
      },
      "outputs": [
        {
          "output_type": "execute_result",
          "data": {
            "text/plain": [
              "   age         job  marital  education default  balance housing loan  contact  \\\n",
              "0   59      admin.  married  secondary      no     2343     yes   no  unknown   \n",
              "1   56      admin.  married  secondary      no       45      no   no  unknown   \n",
              "2   41  technician  married  secondary      no     1270     yes   no  unknown   \n",
              "3   55    services  married  secondary      no     2476     yes   no  unknown   \n",
              "4   54      admin.  married   tertiary      no      184      no   no  unknown   \n",
              "\n",
              "   day month  duration  campaign  pdays  previous poutcome deposit  \n",
              "0    5   may      1042         1     -1         0  unknown     yes  \n",
              "1    5   may      1467         1     -1         0  unknown     yes  \n",
              "2    5   may      1389         1     -1         0  unknown     yes  \n",
              "3    5   may       579         1     -1         0  unknown     yes  \n",
              "4    5   may       673         2     -1         0  unknown     yes  "
            ],
            "text/html": [
              "\n",
              "  <div id=\"df-f1673097-706d-4429-9309-df9681bcf8a4\" class=\"colab-df-container\">\n",
              "    <div>\n",
              "<style scoped>\n",
              "    .dataframe tbody tr th:only-of-type {\n",
              "        vertical-align: middle;\n",
              "    }\n",
              "\n",
              "    .dataframe tbody tr th {\n",
              "        vertical-align: top;\n",
              "    }\n",
              "\n",
              "    .dataframe thead th {\n",
              "        text-align: right;\n",
              "    }\n",
              "</style>\n",
              "<table border=\"1\" class=\"dataframe\">\n",
              "  <thead>\n",
              "    <tr style=\"text-align: right;\">\n",
              "      <th></th>\n",
              "      <th>age</th>\n",
              "      <th>job</th>\n",
              "      <th>marital</th>\n",
              "      <th>education</th>\n",
              "      <th>default</th>\n",
              "      <th>balance</th>\n",
              "      <th>housing</th>\n",
              "      <th>loan</th>\n",
              "      <th>contact</th>\n",
              "      <th>day</th>\n",
              "      <th>month</th>\n",
              "      <th>duration</th>\n",
              "      <th>campaign</th>\n",
              "      <th>pdays</th>\n",
              "      <th>previous</th>\n",
              "      <th>poutcome</th>\n",
              "      <th>deposit</th>\n",
              "    </tr>\n",
              "  </thead>\n",
              "  <tbody>\n",
              "    <tr>\n",
              "      <th>0</th>\n",
              "      <td>59</td>\n",
              "      <td>admin.</td>\n",
              "      <td>married</td>\n",
              "      <td>secondary</td>\n",
              "      <td>no</td>\n",
              "      <td>2343</td>\n",
              "      <td>yes</td>\n",
              "      <td>no</td>\n",
              "      <td>unknown</td>\n",
              "      <td>5</td>\n",
              "      <td>may</td>\n",
              "      <td>1042</td>\n",
              "      <td>1</td>\n",
              "      <td>-1</td>\n",
              "      <td>0</td>\n",
              "      <td>unknown</td>\n",
              "      <td>yes</td>\n",
              "    </tr>\n",
              "    <tr>\n",
              "      <th>1</th>\n",
              "      <td>56</td>\n",
              "      <td>admin.</td>\n",
              "      <td>married</td>\n",
              "      <td>secondary</td>\n",
              "      <td>no</td>\n",
              "      <td>45</td>\n",
              "      <td>no</td>\n",
              "      <td>no</td>\n",
              "      <td>unknown</td>\n",
              "      <td>5</td>\n",
              "      <td>may</td>\n",
              "      <td>1467</td>\n",
              "      <td>1</td>\n",
              "      <td>-1</td>\n",
              "      <td>0</td>\n",
              "      <td>unknown</td>\n",
              "      <td>yes</td>\n",
              "    </tr>\n",
              "    <tr>\n",
              "      <th>2</th>\n",
              "      <td>41</td>\n",
              "      <td>technician</td>\n",
              "      <td>married</td>\n",
              "      <td>secondary</td>\n",
              "      <td>no</td>\n",
              "      <td>1270</td>\n",
              "      <td>yes</td>\n",
              "      <td>no</td>\n",
              "      <td>unknown</td>\n",
              "      <td>5</td>\n",
              "      <td>may</td>\n",
              "      <td>1389</td>\n",
              "      <td>1</td>\n",
              "      <td>-1</td>\n",
              "      <td>0</td>\n",
              "      <td>unknown</td>\n",
              "      <td>yes</td>\n",
              "    </tr>\n",
              "    <tr>\n",
              "      <th>3</th>\n",
              "      <td>55</td>\n",
              "      <td>services</td>\n",
              "      <td>married</td>\n",
              "      <td>secondary</td>\n",
              "      <td>no</td>\n",
              "      <td>2476</td>\n",
              "      <td>yes</td>\n",
              "      <td>no</td>\n",
              "      <td>unknown</td>\n",
              "      <td>5</td>\n",
              "      <td>may</td>\n",
              "      <td>579</td>\n",
              "      <td>1</td>\n",
              "      <td>-1</td>\n",
              "      <td>0</td>\n",
              "      <td>unknown</td>\n",
              "      <td>yes</td>\n",
              "    </tr>\n",
              "    <tr>\n",
              "      <th>4</th>\n",
              "      <td>54</td>\n",
              "      <td>admin.</td>\n",
              "      <td>married</td>\n",
              "      <td>tertiary</td>\n",
              "      <td>no</td>\n",
              "      <td>184</td>\n",
              "      <td>no</td>\n",
              "      <td>no</td>\n",
              "      <td>unknown</td>\n",
              "      <td>5</td>\n",
              "      <td>may</td>\n",
              "      <td>673</td>\n",
              "      <td>2</td>\n",
              "      <td>-1</td>\n",
              "      <td>0</td>\n",
              "      <td>unknown</td>\n",
              "      <td>yes</td>\n",
              "    </tr>\n",
              "  </tbody>\n",
              "</table>\n",
              "</div>\n",
              "    <div class=\"colab-df-buttons\">\n",
              "\n",
              "  <div class=\"colab-df-container\">\n",
              "    <button class=\"colab-df-convert\" onclick=\"convertToInteractive('df-f1673097-706d-4429-9309-df9681bcf8a4')\"\n",
              "            title=\"Convert this dataframe to an interactive table.\"\n",
              "            style=\"display:none;\">\n",
              "\n",
              "  <svg xmlns=\"http://www.w3.org/2000/svg\" height=\"24px\" viewBox=\"0 -960 960 960\">\n",
              "    <path d=\"M120-120v-720h720v720H120Zm60-500h600v-160H180v160Zm220 220h160v-160H400v160Zm0 220h160v-160H400v160ZM180-400h160v-160H180v160Zm440 0h160v-160H620v160ZM180-180h160v-160H180v160Zm440 0h160v-160H620v160Z\"/>\n",
              "  </svg>\n",
              "    </button>\n",
              "\n",
              "  <style>\n",
              "    .colab-df-container {\n",
              "      display:flex;\n",
              "      gap: 12px;\n",
              "    }\n",
              "\n",
              "    .colab-df-convert {\n",
              "      background-color: #E8F0FE;\n",
              "      border: none;\n",
              "      border-radius: 50%;\n",
              "      cursor: pointer;\n",
              "      display: none;\n",
              "      fill: #1967D2;\n",
              "      height: 32px;\n",
              "      padding: 0 0 0 0;\n",
              "      width: 32px;\n",
              "    }\n",
              "\n",
              "    .colab-df-convert:hover {\n",
              "      background-color: #E2EBFA;\n",
              "      box-shadow: 0px 1px 2px rgba(60, 64, 67, 0.3), 0px 1px 3px 1px rgba(60, 64, 67, 0.15);\n",
              "      fill: #174EA6;\n",
              "    }\n",
              "\n",
              "    .colab-df-buttons div {\n",
              "      margin-bottom: 4px;\n",
              "    }\n",
              "\n",
              "    [theme=dark] .colab-df-convert {\n",
              "      background-color: #3B4455;\n",
              "      fill: #D2E3FC;\n",
              "    }\n",
              "\n",
              "    [theme=dark] .colab-df-convert:hover {\n",
              "      background-color: #434B5C;\n",
              "      box-shadow: 0px 1px 3px 1px rgba(0, 0, 0, 0.15);\n",
              "      filter: drop-shadow(0px 1px 2px rgba(0, 0, 0, 0.3));\n",
              "      fill: #FFFFFF;\n",
              "    }\n",
              "  </style>\n",
              "\n",
              "    <script>\n",
              "      const buttonEl =\n",
              "        document.querySelector('#df-f1673097-706d-4429-9309-df9681bcf8a4 button.colab-df-convert');\n",
              "      buttonEl.style.display =\n",
              "        google.colab.kernel.accessAllowed ? 'block' : 'none';\n",
              "\n",
              "      async function convertToInteractive(key) {\n",
              "        const element = document.querySelector('#df-f1673097-706d-4429-9309-df9681bcf8a4');\n",
              "        const dataTable =\n",
              "          await google.colab.kernel.invokeFunction('convertToInteractive',\n",
              "                                                    [key], {});\n",
              "        if (!dataTable) return;\n",
              "\n",
              "        const docLinkHtml = 'Like what you see? Visit the ' +\n",
              "          '<a target=\"_blank\" href=https://colab.research.google.com/notebooks/data_table.ipynb>data table notebook</a>'\n",
              "          + ' to learn more about interactive tables.';\n",
              "        element.innerHTML = '';\n",
              "        dataTable['output_type'] = 'display_data';\n",
              "        await google.colab.output.renderOutput(dataTable, element);\n",
              "        const docLink = document.createElement('div');\n",
              "        docLink.innerHTML = docLinkHtml;\n",
              "        element.appendChild(docLink);\n",
              "      }\n",
              "    </script>\n",
              "  </div>\n",
              "\n",
              "\n",
              "<div id=\"df-8faf5bad-02ee-402c-a1e0-b170b512dd21\">\n",
              "  <button class=\"colab-df-quickchart\" onclick=\"quickchart('df-8faf5bad-02ee-402c-a1e0-b170b512dd21')\"\n",
              "            title=\"Suggest charts\"\n",
              "            style=\"display:none;\">\n",
              "\n",
              "<svg xmlns=\"http://www.w3.org/2000/svg\" height=\"24px\"viewBox=\"0 0 24 24\"\n",
              "     width=\"24px\">\n",
              "    <g>\n",
              "        <path d=\"M19 3H5c-1.1 0-2 .9-2 2v14c0 1.1.9 2 2 2h14c1.1 0 2-.9 2-2V5c0-1.1-.9-2-2-2zM9 17H7v-7h2v7zm4 0h-2V7h2v10zm4 0h-2v-4h2v4z\"/>\n",
              "    </g>\n",
              "</svg>\n",
              "  </button>\n",
              "\n",
              "<style>\n",
              "  .colab-df-quickchart {\n",
              "      --bg-color: #E8F0FE;\n",
              "      --fill-color: #1967D2;\n",
              "      --hover-bg-color: #E2EBFA;\n",
              "      --hover-fill-color: #174EA6;\n",
              "      --disabled-fill-color: #AAA;\n",
              "      --disabled-bg-color: #DDD;\n",
              "  }\n",
              "\n",
              "  [theme=dark] .colab-df-quickchart {\n",
              "      --bg-color: #3B4455;\n",
              "      --fill-color: #D2E3FC;\n",
              "      --hover-bg-color: #434B5C;\n",
              "      --hover-fill-color: #FFFFFF;\n",
              "      --disabled-bg-color: #3B4455;\n",
              "      --disabled-fill-color: #666;\n",
              "  }\n",
              "\n",
              "  .colab-df-quickchart {\n",
              "    background-color: var(--bg-color);\n",
              "    border: none;\n",
              "    border-radius: 50%;\n",
              "    cursor: pointer;\n",
              "    display: none;\n",
              "    fill: var(--fill-color);\n",
              "    height: 32px;\n",
              "    padding: 0;\n",
              "    width: 32px;\n",
              "  }\n",
              "\n",
              "  .colab-df-quickchart:hover {\n",
              "    background-color: var(--hover-bg-color);\n",
              "    box-shadow: 0 1px 2px rgba(60, 64, 67, 0.3), 0 1px 3px 1px rgba(60, 64, 67, 0.15);\n",
              "    fill: var(--button-hover-fill-color);\n",
              "  }\n",
              "\n",
              "  .colab-df-quickchart-complete:disabled,\n",
              "  .colab-df-quickchart-complete:disabled:hover {\n",
              "    background-color: var(--disabled-bg-color);\n",
              "    fill: var(--disabled-fill-color);\n",
              "    box-shadow: none;\n",
              "  }\n",
              "\n",
              "  .colab-df-spinner {\n",
              "    border: 2px solid var(--fill-color);\n",
              "    border-color: transparent;\n",
              "    border-bottom-color: var(--fill-color);\n",
              "    animation:\n",
              "      spin 1s steps(1) infinite;\n",
              "  }\n",
              "\n",
              "  @keyframes spin {\n",
              "    0% {\n",
              "      border-color: transparent;\n",
              "      border-bottom-color: var(--fill-color);\n",
              "      border-left-color: var(--fill-color);\n",
              "    }\n",
              "    20% {\n",
              "      border-color: transparent;\n",
              "      border-left-color: var(--fill-color);\n",
              "      border-top-color: var(--fill-color);\n",
              "    }\n",
              "    30% {\n",
              "      border-color: transparent;\n",
              "      border-left-color: var(--fill-color);\n",
              "      border-top-color: var(--fill-color);\n",
              "      border-right-color: var(--fill-color);\n",
              "    }\n",
              "    40% {\n",
              "      border-color: transparent;\n",
              "      border-right-color: var(--fill-color);\n",
              "      border-top-color: var(--fill-color);\n",
              "    }\n",
              "    60% {\n",
              "      border-color: transparent;\n",
              "      border-right-color: var(--fill-color);\n",
              "    }\n",
              "    80% {\n",
              "      border-color: transparent;\n",
              "      border-right-color: var(--fill-color);\n",
              "      border-bottom-color: var(--fill-color);\n",
              "    }\n",
              "    90% {\n",
              "      border-color: transparent;\n",
              "      border-bottom-color: var(--fill-color);\n",
              "    }\n",
              "  }\n",
              "</style>\n",
              "\n",
              "  <script>\n",
              "    async function quickchart(key) {\n",
              "      const quickchartButtonEl =\n",
              "        document.querySelector('#' + key + ' button');\n",
              "      quickchartButtonEl.disabled = true;  // To prevent multiple clicks.\n",
              "      quickchartButtonEl.classList.add('colab-df-spinner');\n",
              "      try {\n",
              "        const charts = await google.colab.kernel.invokeFunction(\n",
              "            'suggestCharts', [key], {});\n",
              "      } catch (error) {\n",
              "        console.error('Error during call to suggestCharts:', error);\n",
              "      }\n",
              "      quickchartButtonEl.classList.remove('colab-df-spinner');\n",
              "      quickchartButtonEl.classList.add('colab-df-quickchart-complete');\n",
              "    }\n",
              "    (() => {\n",
              "      let quickchartButtonEl =\n",
              "        document.querySelector('#df-8faf5bad-02ee-402c-a1e0-b170b512dd21 button');\n",
              "      quickchartButtonEl.style.display =\n",
              "        google.colab.kernel.accessAllowed ? 'block' : 'none';\n",
              "    })();\n",
              "  </script>\n",
              "</div>\n",
              "    </div>\n",
              "  </div>\n"
            ]
          },
          "metadata": {},
          "execution_count": 208
        }
      ],
      "source": [
        "df = pd.read_csv(\"/content/drive/MyDrive/DataScientest /Oct_cda_bankmarketing/Guillaume/bank.csv\")\n",
        "df.head()"
      ]
    },
    {
      "cell_type": "code",
      "execution_count": 209,
      "metadata": {
        "colab": {
          "base_uri": "https://localhost:8080/"
        },
        "id": "KEZi--0-oRRe",
        "outputId": "b9890965-8098-481b-ba07-3be10d5c4afd"
      },
      "outputs": [
        {
          "output_type": "execute_result",
          "data": {
            "text/plain": [
              "(11162, 17)"
            ]
          },
          "metadata": {},
          "execution_count": 209
        }
      ],
      "source": [
        "df.shape"
      ]
    },
    {
      "cell_type": "markdown",
      "metadata": {
        "id": "5xD-ZX7eoVAd"
      },
      "source": [
        "* Notre jeux de données est composées de 11 162 lignes et 17 colonnes, représentées ci-dessous\n",
        "* Our dataset consists of 11,162 rows and 17 columns, each representing a specific attribute. Here is an overview of the columns present in the dataset"
      ]
    },
    {
      "cell_type": "markdown",
      "metadata": {
        "id": "15BIn2HzolnI"
      },
      "source": [
        "| Colonne    | Description                                                              | Qualitative / Quantitative |\n",
        "|------------|--------------------------------------------------------------------------|----------------------------|\n",
        "| age        | Âge du client                                                            |Quantitative - catégorielles|\n",
        "| job        | Type d'emploi du client                                                  |Qualitative - continues     |\n",
        "| marital    | Statut marital du client                                                 |Qualitative - continues     |\n",
        "| education  | Niveau d'éducation du client                                             |Qualitative - continues     |\n",
        "| default    | Le client à t'il un défaut sur un crédit                                       |Qualitative - continues     |\n",
        "| balance    | Solde moyen annuel sur le compte                                                      |Quantitative - catégorielles|\n",
        "| housing    | Le client à t'il un prêt immobilier                                        |Qualitative - continues     |\n",
        "| loan       | Le client à un prêt personnel en cour personnel                                         |Qualitative - continues     |\n",
        "| contact    | Type de communication pour contacter le client                           |Qualitative - continues     |\n",
        "| day        | Jour du mois pour le dernier contact                                     |Qualitative - continues     |\n",
        "| month      | Mois de la dernière communication                                        |Qualitative - continues     |\n",
        "| duration   | Durée de la dernière communication en secondes                           |Quantitative - catégorielles|\n",
        "| campaign   | Nombre de contacts effectués lors de cette campagne                      |Quantitative - catégorielles|\n",
        "| pdays      | Nombre de jours écoulés depuis le dernier contact de la dernière campagne|Quantitative - catégorielles|\n",
        "| previous   | Nombre de contacts effectués avant cette campagne                        |Quantitative - catégorielles|\n",
        "| poutcome   | Résultat de la dernière campagne de marketing précédente                 |Qualitative - continues     |\n",
        "| deposit    | Le client à t'il souscrit à un dépôt à terme                               |Qualitative - continues     |\n"
      ]
    },
    {
      "cell_type": "code",
      "execution_count": 210,
      "metadata": {
        "colab": {
          "base_uri": "https://localhost:8080/"
        },
        "id": "_xjimhZWpSrS",
        "outputId": "3d119664-5a9d-4425-ebc6-9fb3ebfbfe91"
      },
      "outputs": [
        {
          "output_type": "stream",
          "name": "stdout",
          "text": [
            "<class 'pandas.core.frame.DataFrame'>\n",
            "RangeIndex: 11162 entries, 0 to 11161\n",
            "Data columns (total 17 columns):\n",
            " #   Column     Non-Null Count  Dtype \n",
            "---  ------     --------------  ----- \n",
            " 0   age        11162 non-null  int64 \n",
            " 1   job        11162 non-null  object\n",
            " 2   marital    11162 non-null  object\n",
            " 3   education  11162 non-null  object\n",
            " 4   default    11162 non-null  object\n",
            " 5   balance    11162 non-null  int64 \n",
            " 6   housing    11162 non-null  object\n",
            " 7   loan       11162 non-null  object\n",
            " 8   contact    11162 non-null  object\n",
            " 9   day        11162 non-null  int64 \n",
            " 10  month      11162 non-null  object\n",
            " 11  duration   11162 non-null  int64 \n",
            " 12  campaign   11162 non-null  int64 \n",
            " 13  pdays      11162 non-null  int64 \n",
            " 14  previous   11162 non-null  int64 \n",
            " 15  poutcome   11162 non-null  object\n",
            " 16  deposit    11162 non-null  object\n",
            "dtypes: int64(7), object(10)\n",
            "memory usage: 1.4+ MB\n"
          ]
        }
      ],
      "source": [
        "df.info()"
      ]
    },
    {
      "cell_type": "markdown",
      "metadata": {
        "id": "S_yfLYwhqiRu"
      },
      "source": [
        "* Observation des valeurs manquantes\n",
        "* Observing missing values"
      ]
    },
    {
      "cell_type": "code",
      "execution_count": 211,
      "metadata": {
        "colab": {
          "base_uri": "https://localhost:8080/"
        },
        "id": "92rjfPUCom1G",
        "outputId": "bbcaf3dc-2ce4-4b9d-f8be-e047f0152207"
      },
      "outputs": [
        {
          "output_type": "execute_result",
          "data": {
            "text/plain": [
              "age          0\n",
              "job          0\n",
              "marital      0\n",
              "education    0\n",
              "default      0\n",
              "balance      0\n",
              "housing      0\n",
              "loan         0\n",
              "contact      0\n",
              "day          0\n",
              "month        0\n",
              "duration     0\n",
              "campaign     0\n",
              "pdays        0\n",
              "previous     0\n",
              "poutcome     0\n",
              "deposit      0\n",
              "dtype: int64"
            ]
          },
          "metadata": {},
          "execution_count": 211
        }
      ],
      "source": [
        "df.isnull().sum()"
      ]
    },
    {
      "cell_type": "markdown",
      "metadata": {
        "id": "dx3RdqFurFgg"
      },
      "source": [
        "* Il semberait que nous n'ayons pas de valeurs manquantes.\n",
        "Regardons maintenant les modalités par colonnes. Les modalitées sont affichées en % et arrondi à 2 chiffres après la virgule\n",
        "* Display of modalities by column in %"
      ]
    },
    {
      "cell_type": "code",
      "execution_count": null,
      "metadata": {
        "id": "KJO3pKPzrh5u"
      },
      "outputs": [],
      "source": [
        "for col in df.columns:\n",
        "  unique_value = df[col].unique()\n",
        "  print(f\"> : {col} ==> : {unique_value}\")\n",
        "\n",
        "  value_counts = df[col].value_counts(normalize= True).round(2) * 100\n",
        "  value_counts_with_percent = value_counts.map(\"{:.2f} %\".format)\n",
        "\n",
        "  print(value_counts_with_percent)\n",
        "  print(f'- {df[col].dtypes} -')\n",
        "  print('---------------------------')"
      ]
    },
    {
      "cell_type": "markdown",
      "metadata": {
        "id": "808E1uiY-VV5"
      },
      "source": [
        "* Nous avons dans notre jeux de données par colonnes :\n",
        " * **job** : 1% de unknown\n",
        " * **education** : 4% de unknown\n",
        " * **pdays** : 75% des valeurs qui sont : -1\n",
        " * **previous** : 75% des valeurs qui sont : -0"
      ]
    },
    {
      "cell_type": "code",
      "execution_count": 213,
      "metadata": {
        "colab": {
          "base_uri": "https://localhost:8080/"
        },
        "id": "3fVf6Vs3_ppY",
        "outputId": "2bcb27e7-a6d6-4bc8-de49-e060dad0c623"
      },
      "outputs": [
        {
          "output_type": "stream",
          "name": "stdout",
          "text": [
            "pdays_nul    : (8324, 17)\n",
            "previous_nul : (8324, 17)\n",
            "pdays_nul_equal_previous_nul : True\n"
          ]
        }
      ],
      "source": [
        "# analyse des 75% dans \"pdays\" et \"previous\"\n",
        "pdays_nul = df[df['pdays'] == -1]\n",
        "previous_nul = df[df['previous'] == 0]\n",
        "\n",
        "print('pdays_nul    :', pdays_nul.shape)\n",
        "print(\"previous_nul :\", previous_nul.shape)\n",
        "\n",
        "pdays_nul_equal_previous_nul = pdays_nul.equals(previous_nul)\n",
        "print(\"pdays_nul_equal_previous_nul :\", pdays_nul_equal_previous_nul)"
      ]
    },
    {
      "cell_type": "markdown",
      "metadata": {
        "id": "c9FRmqvXBSbV"
      },
      "source": [
        "* les lignes dans **pdays = -1** et **previous = 0** sont identique\n",
        "75% des clients de la campagne actuelle, n'ont pas participé à la campgne précédente, donc n'ont pas pu etre contacté."
      ]
    },
    {
      "cell_type": "markdown",
      "metadata": {
        "id": "4MqaQ-7AGnJD"
      },
      "source": [
        "### 2 - 1 - 1 Mini étude: **nouveaux clients** vs **ancien clients**"
      ]
    },
    {
      "cell_type": "code",
      "execution_count": 214,
      "metadata": {
        "colab": {
          "base_uri": "https://localhost:8080/",
          "height": 0
        },
        "id": "T--SCXlZCNeV",
        "outputId": "4e9b9f78-9739-46d3-919e-f4bdfdb43a58"
      },
      "outputs": [
        {
          "output_type": "execute_result",
          "data": {
            "text/plain": [
              "      age          job   marital  education default  balance housing loan  \\\n",
              "0      42       admin.    single  secondary      no     -247     yes  yes   \n",
              "1      33     services   married  secondary      no     3444     yes   no   \n",
              "2      56   technician   married  secondary      no      589     yes   no   \n",
              "3      34       admin.   married   tertiary      no      899     yes   no   \n",
              "4      53      retired   married   tertiary      no     2269      no   no   \n",
              "...   ...          ...       ...        ...     ...      ...     ...  ...   \n",
              "2833   40  blue-collar  divorced    primary      no       54     yes   no   \n",
              "2834   37   management   married   tertiary      no     1594     yes   no   \n",
              "2835   60      retired  divorced   tertiary      no     -134      no   no   \n",
              "2836   35  blue-collar   married  secondary      no       80     yes  yes   \n",
              "2837   43   technician   married  secondary      no        0      no  yes   \n",
              "\n",
              "        contact  day month  duration  campaign  pdays  previous poutcome  \\\n",
              "0     telephone   21   oct       519         1    166         1    other   \n",
              "1     telephone   21   oct       144         1     91         4  failure   \n",
              "2       unknown   23   oct       518         1    147         2  success   \n",
              "3       unknown   12   nov       114         1    170         3  failure   \n",
              "4      cellular   17   nov      1091         2    150         1  success   \n",
              "...         ...  ...   ...       ...       ...    ...       ...      ...   \n",
              "2833   cellular   13   may        10         5    362         3    other   \n",
              "2834   cellular   17   apr       110         1    260         5  failure   \n",
              "2835   cellular   12   may       243         1    271         4  failure   \n",
              "2836   cellular   21   nov        38         2    172         2  failure   \n",
              "2837   cellular    8   may         9         2    172         5  failure   \n",
              "\n",
              "     deposit  \n",
              "0        yes  \n",
              "1        yes  \n",
              "2        yes  \n",
              "3        yes  \n",
              "4        yes  \n",
              "...      ...  \n",
              "2833      no  \n",
              "2834      no  \n",
              "2835      no  \n",
              "2836      no  \n",
              "2837      no  \n",
              "\n",
              "[2838 rows x 17 columns]"
            ],
            "text/html": [
              "\n",
              "  <div id=\"df-09a69395-9372-4923-8b99-1d25aa5cdc7a\" class=\"colab-df-container\">\n",
              "    <div>\n",
              "<style scoped>\n",
              "    .dataframe tbody tr th:only-of-type {\n",
              "        vertical-align: middle;\n",
              "    }\n",
              "\n",
              "    .dataframe tbody tr th {\n",
              "        vertical-align: top;\n",
              "    }\n",
              "\n",
              "    .dataframe thead th {\n",
              "        text-align: right;\n",
              "    }\n",
              "</style>\n",
              "<table border=\"1\" class=\"dataframe\">\n",
              "  <thead>\n",
              "    <tr style=\"text-align: right;\">\n",
              "      <th></th>\n",
              "      <th>age</th>\n",
              "      <th>job</th>\n",
              "      <th>marital</th>\n",
              "      <th>education</th>\n",
              "      <th>default</th>\n",
              "      <th>balance</th>\n",
              "      <th>housing</th>\n",
              "      <th>loan</th>\n",
              "      <th>contact</th>\n",
              "      <th>day</th>\n",
              "      <th>month</th>\n",
              "      <th>duration</th>\n",
              "      <th>campaign</th>\n",
              "      <th>pdays</th>\n",
              "      <th>previous</th>\n",
              "      <th>poutcome</th>\n",
              "      <th>deposit</th>\n",
              "    </tr>\n",
              "  </thead>\n",
              "  <tbody>\n",
              "    <tr>\n",
              "      <th>0</th>\n",
              "      <td>42</td>\n",
              "      <td>admin.</td>\n",
              "      <td>single</td>\n",
              "      <td>secondary</td>\n",
              "      <td>no</td>\n",
              "      <td>-247</td>\n",
              "      <td>yes</td>\n",
              "      <td>yes</td>\n",
              "      <td>telephone</td>\n",
              "      <td>21</td>\n",
              "      <td>oct</td>\n",
              "      <td>519</td>\n",
              "      <td>1</td>\n",
              "      <td>166</td>\n",
              "      <td>1</td>\n",
              "      <td>other</td>\n",
              "      <td>yes</td>\n",
              "    </tr>\n",
              "    <tr>\n",
              "      <th>1</th>\n",
              "      <td>33</td>\n",
              "      <td>services</td>\n",
              "      <td>married</td>\n",
              "      <td>secondary</td>\n",
              "      <td>no</td>\n",
              "      <td>3444</td>\n",
              "      <td>yes</td>\n",
              "      <td>no</td>\n",
              "      <td>telephone</td>\n",
              "      <td>21</td>\n",
              "      <td>oct</td>\n",
              "      <td>144</td>\n",
              "      <td>1</td>\n",
              "      <td>91</td>\n",
              "      <td>4</td>\n",
              "      <td>failure</td>\n",
              "      <td>yes</td>\n",
              "    </tr>\n",
              "    <tr>\n",
              "      <th>2</th>\n",
              "      <td>56</td>\n",
              "      <td>technician</td>\n",
              "      <td>married</td>\n",
              "      <td>secondary</td>\n",
              "      <td>no</td>\n",
              "      <td>589</td>\n",
              "      <td>yes</td>\n",
              "      <td>no</td>\n",
              "      <td>unknown</td>\n",
              "      <td>23</td>\n",
              "      <td>oct</td>\n",
              "      <td>518</td>\n",
              "      <td>1</td>\n",
              "      <td>147</td>\n",
              "      <td>2</td>\n",
              "      <td>success</td>\n",
              "      <td>yes</td>\n",
              "    </tr>\n",
              "    <tr>\n",
              "      <th>3</th>\n",
              "      <td>34</td>\n",
              "      <td>admin.</td>\n",
              "      <td>married</td>\n",
              "      <td>tertiary</td>\n",
              "      <td>no</td>\n",
              "      <td>899</td>\n",
              "      <td>yes</td>\n",
              "      <td>no</td>\n",
              "      <td>unknown</td>\n",
              "      <td>12</td>\n",
              "      <td>nov</td>\n",
              "      <td>114</td>\n",
              "      <td>1</td>\n",
              "      <td>170</td>\n",
              "      <td>3</td>\n",
              "      <td>failure</td>\n",
              "      <td>yes</td>\n",
              "    </tr>\n",
              "    <tr>\n",
              "      <th>4</th>\n",
              "      <td>53</td>\n",
              "      <td>retired</td>\n",
              "      <td>married</td>\n",
              "      <td>tertiary</td>\n",
              "      <td>no</td>\n",
              "      <td>2269</td>\n",
              "      <td>no</td>\n",
              "      <td>no</td>\n",
              "      <td>cellular</td>\n",
              "      <td>17</td>\n",
              "      <td>nov</td>\n",
              "      <td>1091</td>\n",
              "      <td>2</td>\n",
              "      <td>150</td>\n",
              "      <td>1</td>\n",
              "      <td>success</td>\n",
              "      <td>yes</td>\n",
              "    </tr>\n",
              "    <tr>\n",
              "      <th>...</th>\n",
              "      <td>...</td>\n",
              "      <td>...</td>\n",
              "      <td>...</td>\n",
              "      <td>...</td>\n",
              "      <td>...</td>\n",
              "      <td>...</td>\n",
              "      <td>...</td>\n",
              "      <td>...</td>\n",
              "      <td>...</td>\n",
              "      <td>...</td>\n",
              "      <td>...</td>\n",
              "      <td>...</td>\n",
              "      <td>...</td>\n",
              "      <td>...</td>\n",
              "      <td>...</td>\n",
              "      <td>...</td>\n",
              "      <td>...</td>\n",
              "    </tr>\n",
              "    <tr>\n",
              "      <th>2833</th>\n",
              "      <td>40</td>\n",
              "      <td>blue-collar</td>\n",
              "      <td>divorced</td>\n",
              "      <td>primary</td>\n",
              "      <td>no</td>\n",
              "      <td>54</td>\n",
              "      <td>yes</td>\n",
              "      <td>no</td>\n",
              "      <td>cellular</td>\n",
              "      <td>13</td>\n",
              "      <td>may</td>\n",
              "      <td>10</td>\n",
              "      <td>5</td>\n",
              "      <td>362</td>\n",
              "      <td>3</td>\n",
              "      <td>other</td>\n",
              "      <td>no</td>\n",
              "    </tr>\n",
              "    <tr>\n",
              "      <th>2834</th>\n",
              "      <td>37</td>\n",
              "      <td>management</td>\n",
              "      <td>married</td>\n",
              "      <td>tertiary</td>\n",
              "      <td>no</td>\n",
              "      <td>1594</td>\n",
              "      <td>yes</td>\n",
              "      <td>no</td>\n",
              "      <td>cellular</td>\n",
              "      <td>17</td>\n",
              "      <td>apr</td>\n",
              "      <td>110</td>\n",
              "      <td>1</td>\n",
              "      <td>260</td>\n",
              "      <td>5</td>\n",
              "      <td>failure</td>\n",
              "      <td>no</td>\n",
              "    </tr>\n",
              "    <tr>\n",
              "      <th>2835</th>\n",
              "      <td>60</td>\n",
              "      <td>retired</td>\n",
              "      <td>divorced</td>\n",
              "      <td>tertiary</td>\n",
              "      <td>no</td>\n",
              "      <td>-134</td>\n",
              "      <td>no</td>\n",
              "      <td>no</td>\n",
              "      <td>cellular</td>\n",
              "      <td>12</td>\n",
              "      <td>may</td>\n",
              "      <td>243</td>\n",
              "      <td>1</td>\n",
              "      <td>271</td>\n",
              "      <td>4</td>\n",
              "      <td>failure</td>\n",
              "      <td>no</td>\n",
              "    </tr>\n",
              "    <tr>\n",
              "      <th>2836</th>\n",
              "      <td>35</td>\n",
              "      <td>blue-collar</td>\n",
              "      <td>married</td>\n",
              "      <td>secondary</td>\n",
              "      <td>no</td>\n",
              "      <td>80</td>\n",
              "      <td>yes</td>\n",
              "      <td>yes</td>\n",
              "      <td>cellular</td>\n",
              "      <td>21</td>\n",
              "      <td>nov</td>\n",
              "      <td>38</td>\n",
              "      <td>2</td>\n",
              "      <td>172</td>\n",
              "      <td>2</td>\n",
              "      <td>failure</td>\n",
              "      <td>no</td>\n",
              "    </tr>\n",
              "    <tr>\n",
              "      <th>2837</th>\n",
              "      <td>43</td>\n",
              "      <td>technician</td>\n",
              "      <td>married</td>\n",
              "      <td>secondary</td>\n",
              "      <td>no</td>\n",
              "      <td>0</td>\n",
              "      <td>no</td>\n",
              "      <td>yes</td>\n",
              "      <td>cellular</td>\n",
              "      <td>8</td>\n",
              "      <td>may</td>\n",
              "      <td>9</td>\n",
              "      <td>2</td>\n",
              "      <td>172</td>\n",
              "      <td>5</td>\n",
              "      <td>failure</td>\n",
              "      <td>no</td>\n",
              "    </tr>\n",
              "  </tbody>\n",
              "</table>\n",
              "<p>2838 rows × 17 columns</p>\n",
              "</div>\n",
              "    <div class=\"colab-df-buttons\">\n",
              "\n",
              "  <div class=\"colab-df-container\">\n",
              "    <button class=\"colab-df-convert\" onclick=\"convertToInteractive('df-09a69395-9372-4923-8b99-1d25aa5cdc7a')\"\n",
              "            title=\"Convert this dataframe to an interactive table.\"\n",
              "            style=\"display:none;\">\n",
              "\n",
              "  <svg xmlns=\"http://www.w3.org/2000/svg\" height=\"24px\" viewBox=\"0 -960 960 960\">\n",
              "    <path d=\"M120-120v-720h720v720H120Zm60-500h600v-160H180v160Zm220 220h160v-160H400v160Zm0 220h160v-160H400v160ZM180-400h160v-160H180v160Zm440 0h160v-160H620v160ZM180-180h160v-160H180v160Zm440 0h160v-160H620v160Z\"/>\n",
              "  </svg>\n",
              "    </button>\n",
              "\n",
              "  <style>\n",
              "    .colab-df-container {\n",
              "      display:flex;\n",
              "      gap: 12px;\n",
              "    }\n",
              "\n",
              "    .colab-df-convert {\n",
              "      background-color: #E8F0FE;\n",
              "      border: none;\n",
              "      border-radius: 50%;\n",
              "      cursor: pointer;\n",
              "      display: none;\n",
              "      fill: #1967D2;\n",
              "      height: 32px;\n",
              "      padding: 0 0 0 0;\n",
              "      width: 32px;\n",
              "    }\n",
              "\n",
              "    .colab-df-convert:hover {\n",
              "      background-color: #E2EBFA;\n",
              "      box-shadow: 0px 1px 2px rgba(60, 64, 67, 0.3), 0px 1px 3px 1px rgba(60, 64, 67, 0.15);\n",
              "      fill: #174EA6;\n",
              "    }\n",
              "\n",
              "    .colab-df-buttons div {\n",
              "      margin-bottom: 4px;\n",
              "    }\n",
              "\n",
              "    [theme=dark] .colab-df-convert {\n",
              "      background-color: #3B4455;\n",
              "      fill: #D2E3FC;\n",
              "    }\n",
              "\n",
              "    [theme=dark] .colab-df-convert:hover {\n",
              "      background-color: #434B5C;\n",
              "      box-shadow: 0px 1px 3px 1px rgba(0, 0, 0, 0.15);\n",
              "      filter: drop-shadow(0px 1px 2px rgba(0, 0, 0, 0.3));\n",
              "      fill: #FFFFFF;\n",
              "    }\n",
              "  </style>\n",
              "\n",
              "    <script>\n",
              "      const buttonEl =\n",
              "        document.querySelector('#df-09a69395-9372-4923-8b99-1d25aa5cdc7a button.colab-df-convert');\n",
              "      buttonEl.style.display =\n",
              "        google.colab.kernel.accessAllowed ? 'block' : 'none';\n",
              "\n",
              "      async function convertToInteractive(key) {\n",
              "        const element = document.querySelector('#df-09a69395-9372-4923-8b99-1d25aa5cdc7a');\n",
              "        const dataTable =\n",
              "          await google.colab.kernel.invokeFunction('convertToInteractive',\n",
              "                                                    [key], {});\n",
              "        if (!dataTable) return;\n",
              "\n",
              "        const docLinkHtml = 'Like what you see? Visit the ' +\n",
              "          '<a target=\"_blank\" href=https://colab.research.google.com/notebooks/data_table.ipynb>data table notebook</a>'\n",
              "          + ' to learn more about interactive tables.';\n",
              "        element.innerHTML = '';\n",
              "        dataTable['output_type'] = 'display_data';\n",
              "        await google.colab.output.renderOutput(dataTable, element);\n",
              "        const docLink = document.createElement('div');\n",
              "        docLink.innerHTML = docLinkHtml;\n",
              "        element.appendChild(docLink);\n",
              "      }\n",
              "    </script>\n",
              "  </div>\n",
              "\n",
              "\n",
              "<div id=\"df-d72e4ab1-e0e5-404e-909c-afbf5aa92cfc\">\n",
              "  <button class=\"colab-df-quickchart\" onclick=\"quickchart('df-d72e4ab1-e0e5-404e-909c-afbf5aa92cfc')\"\n",
              "            title=\"Suggest charts\"\n",
              "            style=\"display:none;\">\n",
              "\n",
              "<svg xmlns=\"http://www.w3.org/2000/svg\" height=\"24px\"viewBox=\"0 0 24 24\"\n",
              "     width=\"24px\">\n",
              "    <g>\n",
              "        <path d=\"M19 3H5c-1.1 0-2 .9-2 2v14c0 1.1.9 2 2 2h14c1.1 0 2-.9 2-2V5c0-1.1-.9-2-2-2zM9 17H7v-7h2v7zm4 0h-2V7h2v10zm4 0h-2v-4h2v4z\"/>\n",
              "    </g>\n",
              "</svg>\n",
              "  </button>\n",
              "\n",
              "<style>\n",
              "  .colab-df-quickchart {\n",
              "      --bg-color: #E8F0FE;\n",
              "      --fill-color: #1967D2;\n",
              "      --hover-bg-color: #E2EBFA;\n",
              "      --hover-fill-color: #174EA6;\n",
              "      --disabled-fill-color: #AAA;\n",
              "      --disabled-bg-color: #DDD;\n",
              "  }\n",
              "\n",
              "  [theme=dark] .colab-df-quickchart {\n",
              "      --bg-color: #3B4455;\n",
              "      --fill-color: #D2E3FC;\n",
              "      --hover-bg-color: #434B5C;\n",
              "      --hover-fill-color: #FFFFFF;\n",
              "      --disabled-bg-color: #3B4455;\n",
              "      --disabled-fill-color: #666;\n",
              "  }\n",
              "\n",
              "  .colab-df-quickchart {\n",
              "    background-color: var(--bg-color);\n",
              "    border: none;\n",
              "    border-radius: 50%;\n",
              "    cursor: pointer;\n",
              "    display: none;\n",
              "    fill: var(--fill-color);\n",
              "    height: 32px;\n",
              "    padding: 0;\n",
              "    width: 32px;\n",
              "  }\n",
              "\n",
              "  .colab-df-quickchart:hover {\n",
              "    background-color: var(--hover-bg-color);\n",
              "    box-shadow: 0 1px 2px rgba(60, 64, 67, 0.3), 0 1px 3px 1px rgba(60, 64, 67, 0.15);\n",
              "    fill: var(--button-hover-fill-color);\n",
              "  }\n",
              "\n",
              "  .colab-df-quickchart-complete:disabled,\n",
              "  .colab-df-quickchart-complete:disabled:hover {\n",
              "    background-color: var(--disabled-bg-color);\n",
              "    fill: var(--disabled-fill-color);\n",
              "    box-shadow: none;\n",
              "  }\n",
              "\n",
              "  .colab-df-spinner {\n",
              "    border: 2px solid var(--fill-color);\n",
              "    border-color: transparent;\n",
              "    border-bottom-color: var(--fill-color);\n",
              "    animation:\n",
              "      spin 1s steps(1) infinite;\n",
              "  }\n",
              "\n",
              "  @keyframes spin {\n",
              "    0% {\n",
              "      border-color: transparent;\n",
              "      border-bottom-color: var(--fill-color);\n",
              "      border-left-color: var(--fill-color);\n",
              "    }\n",
              "    20% {\n",
              "      border-color: transparent;\n",
              "      border-left-color: var(--fill-color);\n",
              "      border-top-color: var(--fill-color);\n",
              "    }\n",
              "    30% {\n",
              "      border-color: transparent;\n",
              "      border-left-color: var(--fill-color);\n",
              "      border-top-color: var(--fill-color);\n",
              "      border-right-color: var(--fill-color);\n",
              "    }\n",
              "    40% {\n",
              "      border-color: transparent;\n",
              "      border-right-color: var(--fill-color);\n",
              "      border-top-color: var(--fill-color);\n",
              "    }\n",
              "    60% {\n",
              "      border-color: transparent;\n",
              "      border-right-color: var(--fill-color);\n",
              "    }\n",
              "    80% {\n",
              "      border-color: transparent;\n",
              "      border-right-color: var(--fill-color);\n",
              "      border-bottom-color: var(--fill-color);\n",
              "    }\n",
              "    90% {\n",
              "      border-color: transparent;\n",
              "      border-bottom-color: var(--fill-color);\n",
              "    }\n",
              "  }\n",
              "</style>\n",
              "\n",
              "  <script>\n",
              "    async function quickchart(key) {\n",
              "      const quickchartButtonEl =\n",
              "        document.querySelector('#' + key + ' button');\n",
              "      quickchartButtonEl.disabled = true;  // To prevent multiple clicks.\n",
              "      quickchartButtonEl.classList.add('colab-df-spinner');\n",
              "      try {\n",
              "        const charts = await google.colab.kernel.invokeFunction(\n",
              "            'suggestCharts', [key], {});\n",
              "      } catch (error) {\n",
              "        console.error('Error during call to suggestCharts:', error);\n",
              "      }\n",
              "      quickchartButtonEl.classList.remove('colab-df-spinner');\n",
              "      quickchartButtonEl.classList.add('colab-df-quickchart-complete');\n",
              "    }\n",
              "    (() => {\n",
              "      let quickchartButtonEl =\n",
              "        document.querySelector('#df-d72e4ab1-e0e5-404e-909c-afbf5aa92cfc button');\n",
              "      quickchartButtonEl.style.display =\n",
              "        google.colab.kernel.accessAllowed ? 'block' : 'none';\n",
              "    })();\n",
              "  </script>\n",
              "</div>\n",
              "    </div>\n",
              "  </div>\n"
            ]
          },
          "metadata": {},
          "execution_count": 214
        }
      ],
      "source": [
        "# Nous séparons les customers en 2 catégories\n",
        "# df avec les nouveaux clients\n",
        "new_customers_df = pdays_nul\n",
        "\n",
        "# df avec les anciens clients\n",
        "sup_to_sup = df[df['pdays'] == -1].index\n",
        "old_customers_df = df.drop(sup_to_sup)\n",
        "old_customers_df = old_customers_df.reset_index(drop=True)\n",
        "\n",
        "old_customers_df"
      ]
    },
    {
      "cell_type": "code",
      "execution_count": 215,
      "metadata": {
        "colab": {
          "base_uri": "https://localhost:8080/"
        },
        "id": "SK3JQe1IF8ZA",
        "outputId": "577164c3-852b-41cf-e8f0-90cc292ca482"
      },
      "outputs": [
        {
          "output_type": "execute_result",
          "data": {
            "text/plain": [
              "no     59.0\n",
              "yes    41.0\n",
              "Name: deposit, dtype: float64"
            ]
          },
          "metadata": {},
          "execution_count": 215
        }
      ],
      "source": [
        "new_customers_df['deposit'].value_counts(normalize= True).round(2) * 100"
      ]
    },
    {
      "cell_type": "code",
      "execution_count": 216,
      "metadata": {
        "colab": {
          "base_uri": "https://localhost:8080/"
        },
        "id": "J65XbCY0GF2L",
        "outputId": "7323a91b-2651-47fc-fe1c-935ac127ff01"
      },
      "outputs": [
        {
          "output_type": "execute_result",
          "data": {
            "text/plain": [
              "yes    67.0\n",
              "no     33.0\n",
              "Name: deposit, dtype: float64"
            ]
          },
          "metadata": {},
          "execution_count": 216
        }
      ],
      "source": [
        "old_customers_df['deposit'].value_counts(normalize= True).round(2) * 100"
      ]
    },
    {
      "cell_type": "markdown",
      "metadata": {
        "id": "UTzKoKNmG2Je"
      },
      "source": [
        "* 41% des nouveaux client ont souscrit\n",
        "* 67% des anciens client ont souscrit"
      ]
    },
    {
      "cell_type": "markdown",
      "source": [
        "### 2 - 1 - 2 Mini étude: varible **job** pour les **nouveaux** client et les **anciens**\n",
        "\n"
      ],
      "metadata": {
        "id": "02zZ4ZQfuI_W"
      }
    },
    {
      "cell_type": "code",
      "source": [
        "import matplotlib.pyplot as plt\n",
        "import seaborn as sns\n",
        "\n",
        "fig, axs = plt.subplots(2, 4, figsize=(20, 10))  # Deux lignes, quatre colonnes\n",
        "\n",
        "# 1 ### New Customer \"Job\"\n",
        "axs[0, 0].set_title('Job Distribution - New Customers')\n",
        "new_customers_df['job'].value_counts().plot(\n",
        "    kind='bar',\n",
        "    color=['skyblue', 'skyblue', 'skyblue', 'skyblue', 'skyblue', 'skyblue', 'skyblue', 'skyblue', 'skyblue', 'skyblue', 'skyblue', 'lightcoral'],\n",
        "    ax=axs[0, 0]\n",
        ")\n",
        "axs[0, 0].set_ylabel('')\n",
        "axs[0, 0].set_xlabel('')\n",
        "\n",
        "# 2 ### Old Customer \"Job\"\n",
        "axs[0, 1].set_title('Job Distribution - Old Customers')\n",
        "old_customers_df['job'].value_counts().plot(\n",
        "    kind='bar',\n",
        "    color=['skyblue', 'skyblue', 'skyblue', 'skyblue', 'skyblue', 'skyblue', 'skyblue', 'skyblue', 'skyblue', 'skyblue', 'skyblue', 'lightcoral'],\n",
        "    ax=axs[0, 1]\n",
        ")\n",
        "axs[0, 1].set_ylabel('')\n",
        "axs[0, 1].set_xlabel('')\n",
        "\n",
        "# 3 ### Distribution age new customers\n",
        "sns.kdeplot(data=new_customers_df, x='age', fill=True, ax=axs[0, 2])\n",
        "axs[0, 2].set_xlabel('Age')\n",
        "axs[0, 2].set_ylabel('')\n",
        "axs[0, 2].set_title('Distribution des ages des nouveaux clients')\n",
        "\n",
        "# 4 ### Distribution age old customers\n",
        "sns.kdeplot(data=old_customers_df, x='age', fill=True, ax=axs[0, 3])\n",
        "axs[0, 3].set_xlabel('Age')\n",
        "axs[0, 3].set_ylabel('')\n",
        "axs[0, 3].set_title('Distribution des ages des anciens clients')\n",
        "\n",
        "# 5 ### Distribution balance new customers\n",
        "sns.kdeplot(data=new_customers_df, x='balance', fill=True, ax=axs[1, 0])\n",
        "axs[1, 0].set_xlabel('Balance')\n",
        "axs[1, 0].set_ylabel('')\n",
        "axs[1, 0].set_title('Distribution des soldes des nouveaux clients')\n",
        "\n",
        "# 6 ### Distribution balance old customers\n",
        "sns.kdeplot(data=old_customers_df, x='balance', fill=True, ax=axs[1, 1])\n",
        "axs[1, 1].set_xlabel('Balance')\n",
        "axs[1, 1].set_ylabel('')\n",
        "axs[1, 1].set_title('Distribution des soldes des anciens clients')\n",
        "\n",
        "plt.tight_layout()\n",
        "plt.show()\n"
      ],
      "metadata": {
        "colab": {
          "base_uri": "https://localhost:8080/",
          "height": 0
        },
        "id": "NTDQfCAguifR",
        "outputId": "4e3f8d73-5507-4307-8421-edafcfa438b1"
      },
      "execution_count": 217,
      "outputs": [
        {
          "output_type": "display_data",
          "data": {
            "text/plain": [
              "<Figure size 2000x1000 with 8 Axes>"
            ],
            "image/png": "[encoded data removed]"
          },
          "metadata": {}
        }
      ]
    },
    {
      "cell_type": "code",
      "source": [
        "# Médiane de l'âge\n",
        "print('Médiane de l\\'âge des anciens clients :', old_customers_df['age'].median())\n",
        "print('Médiane de l\\'âge des nouveaux clients :', new_customers_df['age'].median())\n",
        "\n",
        "# Médiane du solde\n",
        "print('Médiane du solde des anciens clients :', old_customers_df['balance'].median())\n",
        "print('Médiane du solde des nouveaux clients :', new_customers_df['balance'].median())\n",
        "\n",
        "# Quartiles du solde\n",
        "print('Quartiles du solde des anciens clients :')\n",
        "print(old_customers_df['balance'].quantile([0.25, 0.5, 0.75]))\n",
        "\n",
        "print('Quartiles du solde des nouveaux clients :')\n",
        "print(new_customers_df['balance'].quantile([0.25, 0.5, 0.75]))\n"
      ],
      "metadata": {
        "colab": {
          "base_uri": "https://localhost:8080/"
        },
        "id": "eRZUMFrY2kAl",
        "outputId": "7c3fdb29-c8fa-463d-d3e4-0d4c0e04084a"
      },
      "execution_count": 218,
      "outputs": [
        {
          "output_type": "stream",
          "name": "stdout",
          "text": [
            "Médiane de l'âge des anciens clients : 38.0\n",
            "Médiane de l'âge des nouveaux clients : 39.0\n",
            "Médiane du solde des anciens clients : 722.0\n",
            "Médiane du solde des nouveaux clients : 497.0\n",
            "Quartiles du solde des anciens clients :\n",
            "0.25     219.00\n",
            "0.50     722.00\n",
            "0.75    2060.75\n",
            "Name: balance, dtype: float64\n",
            "Quartiles du solde des nouveaux clients :\n",
            "0.25      94.75\n",
            "0.50     497.00\n",
            "0.75    1588.00\n",
            "Name: balance, dtype: float64\n"
          ]
        }
      ]
    },
    {
      "cell_type": "markdown",
      "source": [
        "* Il semble que pour les anciens clients et les nouveux clients:\n",
        " * la représentation de la varibles job et la distribution des ages semble etre similaire\n",
        " * il n'y a pas de grande différence sur la variable balance, grace aux études des médianes et quartiles"
      ],
      "metadata": {
        "id": "d6Ly9D_6znGz"
      }
    },
    {
      "cell_type": "markdown",
      "source": [
        "**Il n'est pas judicieux de faire une étude séparé pour les anciens client et les nouveux**"
      ],
      "metadata": {
        "id": "FnmnNwHT5Rwd"
      }
    },
    {
      "cell_type": "markdown",
      "metadata": {
        "id": "1Ld5njsTFjvd"
      },
      "source": [
        "# **3.**  Traitements des données"
      ]
    },
    {
      "cell_type": "markdown",
      "metadata": {
        "id": "A7OMY3uuUiT2"
      },
      "source": [
        "## **3 - 1** Gestions des valeurs non désirées (unknown)\n"
      ]
    },
    {
      "cell_type": "markdown",
      "metadata": {
        "id": "vSJr9hmDsQC7"
      },
      "source": [
        "* Nous avons donc dans notre jeux de données plusieurs colonnes avec des valeurs non désirées = VND\n"
      ]
    },
    {
      "cell_type": "code",
      "execution_count": 219,
      "metadata": {
        "colab": {
          "base_uri": "https://localhost:8080/",
          "height": 206
        },
        "id": "_8gZh8uAvUNP",
        "outputId": "46b248d8-a9f0-4d0a-fbf3-1c07f3107b57"
      },
      "outputs": [
        {
          "output_type": "display_data",
          "data": {
            "text/plain": [
              "        Name      VND   %\n",
              "0        job  unknown   1\n",
              "1  education  unknown   4\n",
              "2    contact  unknown  21\n",
              "3   poutcome  unknown  75\n",
              "4   poutcome    other   5"
            ],
            "text/html": [
              "\n",
              "  <div id=\"df-dd98a244-fa1d-40dd-96e0-7d623ea3cec5\" class=\"colab-df-container\">\n",
              "    <div>\n",
              "<style scoped>\n",
              "    .dataframe tbody tr th:only-of-type {\n",
              "        vertical-align: middle;\n",
              "    }\n",
              "\n",
              "    .dataframe tbody tr th {\n",
              "        vertical-align: top;\n",
              "    }\n",
              "\n",
              "    .dataframe thead th {\n",
              "        text-align: right;\n",
              "    }\n",
              "</style>\n",
              "<table border=\"1\" class=\"dataframe\">\n",
              "  <thead>\n",
              "    <tr style=\"text-align: right;\">\n",
              "      <th></th>\n",
              "      <th>Name</th>\n",
              "      <th>VND</th>\n",
              "      <th>%</th>\n",
              "    </tr>\n",
              "  </thead>\n",
              "  <tbody>\n",
              "    <tr>\n",
              "      <th>0</th>\n",
              "      <td>job</td>\n",
              "      <td>unknown</td>\n",
              "      <td>1</td>\n",
              "    </tr>\n",
              "    <tr>\n",
              "      <th>1</th>\n",
              "      <td>education</td>\n",
              "      <td>unknown</td>\n",
              "      <td>4</td>\n",
              "    </tr>\n",
              "    <tr>\n",
              "      <th>2</th>\n",
              "      <td>contact</td>\n",
              "      <td>unknown</td>\n",
              "      <td>21</td>\n",
              "    </tr>\n",
              "    <tr>\n",
              "      <th>3</th>\n",
              "      <td>poutcome</td>\n",
              "      <td>unknown</td>\n",
              "      <td>75</td>\n",
              "    </tr>\n",
              "    <tr>\n",
              "      <th>4</th>\n",
              "      <td>poutcome</td>\n",
              "      <td>other</td>\n",
              "      <td>5</td>\n",
              "    </tr>\n",
              "  </tbody>\n",
              "</table>\n",
              "</div>\n",
              "    <div class=\"colab-df-buttons\">\n",
              "\n",
              "  <div class=\"colab-df-container\">\n",
              "    <button class=\"colab-df-convert\" onclick=\"convertToInteractive('df-dd98a244-fa1d-40dd-96e0-7d623ea3cec5')\"\n",
              "            title=\"Convert this dataframe to an interactive table.\"\n",
              "            style=\"display:none;\">\n",
              "\n",
              "  <svg xmlns=\"http://www.w3.org/2000/svg\" height=\"24px\" viewBox=\"0 -960 960 960\">\n",
              "    <path d=\"M120-120v-720h720v720H120Zm60-500h600v-160H180v160Zm220 220h160v-160H400v160Zm0 220h160v-160H400v160ZM180-400h160v-160H180v160Zm440 0h160v-160H620v160ZM180-180h160v-160H180v160Zm440 0h160v-160H620v160Z\"/>\n",
              "  </svg>\n",
              "    </button>\n",
              "\n",
              "  <style>\n",
              "    .colab-df-container {\n",
              "      display:flex;\n",
              "      gap: 12px;\n",
              "    }\n",
              "\n",
              "    .colab-df-convert {\n",
              "      background-color: #E8F0FE;\n",
              "      border: none;\n",
              "      border-radius: 50%;\n",
              "      cursor: pointer;\n",
              "      display: none;\n",
              "      fill: #1967D2;\n",
              "      height: 32px;\n",
              "      padding: 0 0 0 0;\n",
              "      width: 32px;\n",
              "    }\n",
              "\n",
              "    .colab-df-convert:hover {\n",
              "      background-color: #E2EBFA;\n",
              "      box-shadow: 0px 1px 2px rgba(60, 64, 67, 0.3), 0px 1px 3px 1px rgba(60, 64, 67, 0.15);\n",
              "      fill: #174EA6;\n",
              "    }\n",
              "\n",
              "    .colab-df-buttons div {\n",
              "      margin-bottom: 4px;\n",
              "    }\n",
              "\n",
              "    [theme=dark] .colab-df-convert {\n",
              "      background-color: #3B4455;\n",
              "      fill: #D2E3FC;\n",
              "    }\n",
              "\n",
              "    [theme=dark] .colab-df-convert:hover {\n",
              "      background-color: #434B5C;\n",
              "      box-shadow: 0px 1px 3px 1px rgba(0, 0, 0, 0.15);\n",
              "      filter: drop-shadow(0px 1px 2px rgba(0, 0, 0, 0.3));\n",
              "      fill: #FFFFFF;\n",
              "    }\n",
              "  </style>\n",
              "\n",
              "    <script>\n",
              "      const buttonEl =\n",
              "        document.querySelector('#df-dd98a244-fa1d-40dd-96e0-7d623ea3cec5 button.colab-df-convert');\n",
              "      buttonEl.style.display =\n",
              "        google.colab.kernel.accessAllowed ? 'block' : 'none';\n",
              "\n",
              "      async function convertToInteractive(key) {\n",
              "        const element = document.querySelector('#df-dd98a244-fa1d-40dd-96e0-7d623ea3cec5');\n",
              "        const dataTable =\n",
              "          await google.colab.kernel.invokeFunction('convertToInteractive',\n",
              "                                                    [key], {});\n",
              "        if (!dataTable) return;\n",
              "\n",
              "        const docLinkHtml = 'Like what you see? Visit the ' +\n",
              "          '<a target=\"_blank\" href=https://colab.research.google.com/notebooks/data_table.ipynb>data table notebook</a>'\n",
              "          + ' to learn more about interactive tables.';\n",
              "        element.innerHTML = '';\n",
              "        dataTable['output_type'] = 'display_data';\n",
              "        await google.colab.output.renderOutput(dataTable, element);\n",
              "        const docLink = document.createElement('div');\n",
              "        docLink.innerHTML = docLinkHtml;\n",
              "        element.appendChild(docLink);\n",
              "      }\n",
              "    </script>\n",
              "  </div>\n",
              "\n",
              "\n",
              "<div id=\"df-c87bdf43-ddd3-4c82-9b21-c99432dad892\">\n",
              "  <button class=\"colab-df-quickchart\" onclick=\"quickchart('df-c87bdf43-ddd3-4c82-9b21-c99432dad892')\"\n",
              "            title=\"Suggest charts\"\n",
              "            style=\"display:none;\">\n",
              "\n",
              "<svg xmlns=\"http://www.w3.org/2000/svg\" height=\"24px\"viewBox=\"0 0 24 24\"\n",
              "     width=\"24px\">\n",
              "    <g>\n",
              "        <path d=\"M19 3H5c-1.1 0-2 .9-2 2v14c0 1.1.9 2 2 2h14c1.1 0 2-.9 2-2V5c0-1.1-.9-2-2-2zM9 17H7v-7h2v7zm4 0h-2V7h2v10zm4 0h-2v-4h2v4z\"/>\n",
              "    </g>\n",
              "</svg>\n",
              "  </button>\n",
              "\n",
              "<style>\n",
              "  .colab-df-quickchart {\n",
              "      --bg-color: #E8F0FE;\n",
              "      --fill-color: #1967D2;\n",
              "      --hover-bg-color: #E2EBFA;\n",
              "      --hover-fill-color: #174EA6;\n",
              "      --disabled-fill-color: #AAA;\n",
              "      --disabled-bg-color: #DDD;\n",
              "  }\n",
              "\n",
              "  [theme=dark] .colab-df-quickchart {\n",
              "      --bg-color: #3B4455;\n",
              "      --fill-color: #D2E3FC;\n",
              "      --hover-bg-color: #434B5C;\n",
              "      --hover-fill-color: #FFFFFF;\n",
              "      --disabled-bg-color: #3B4455;\n",
              "      --disabled-fill-color: #666;\n",
              "  }\n",
              "\n",
              "  .colab-df-quickchart {\n",
              "    background-color: var(--bg-color);\n",
              "    border: none;\n",
              "    border-radius: 50%;\n",
              "    cursor: pointer;\n",
              "    display: none;\n",
              "    fill: var(--fill-color);\n",
              "    height: 32px;\n",
              "    padding: 0;\n",
              "    width: 32px;\n",
              "  }\n",
              "\n",
              "  .colab-df-quickchart:hover {\n",
              "    background-color: var(--hover-bg-color);\n",
              "    box-shadow: 0 1px 2px rgba(60, 64, 67, 0.3), 0 1px 3px 1px rgba(60, 64, 67, 0.15);\n",
              "    fill: var(--button-hover-fill-color);\n",
              "  }\n",
              "\n",
              "  .colab-df-quickchart-complete:disabled,\n",
              "  .colab-df-quickchart-complete:disabled:hover {\n",
              "    background-color: var(--disabled-bg-color);\n",
              "    fill: var(--disabled-fill-color);\n",
              "    box-shadow: none;\n",
              "  }\n",
              "\n",
              "  .colab-df-spinner {\n",
              "    border: 2px solid var(--fill-color);\n",
              "    border-color: transparent;\n",
              "    border-bottom-color: var(--fill-color);\n",
              "    animation:\n",
              "      spin 1s steps(1) infinite;\n",
              "  }\n",
              "\n",
              "  @keyframes spin {\n",
              "    0% {\n",
              "      border-color: transparent;\n",
              "      border-bottom-color: var(--fill-color);\n",
              "      border-left-color: var(--fill-color);\n",
              "    }\n",
              "    20% {\n",
              "      border-color: transparent;\n",
              "      border-left-color: var(--fill-color);\n",
              "      border-top-color: var(--fill-color);\n",
              "    }\n",
              "    30% {\n",
              "      border-color: transparent;\n",
              "      border-left-color: var(--fill-color);\n",
              "      border-top-color: var(--fill-color);\n",
              "      border-right-color: var(--fill-color);\n",
              "    }\n",
              "    40% {\n",
              "      border-color: transparent;\n",
              "      border-right-color: var(--fill-color);\n",
              "      border-top-color: var(--fill-color);\n",
              "    }\n",
              "    60% {\n",
              "      border-color: transparent;\n",
              "      border-right-color: var(--fill-color);\n",
              "    }\n",
              "    80% {\n",
              "      border-color: transparent;\n",
              "      border-right-color: var(--fill-color);\n",
              "      border-bottom-color: var(--fill-color);\n",
              "    }\n",
              "    90% {\n",
              "      border-color: transparent;\n",
              "      border-bottom-color: var(--fill-color);\n",
              "    }\n",
              "  }\n",
              "</style>\n",
              "\n",
              "  <script>\n",
              "    async function quickchart(key) {\n",
              "      const quickchartButtonEl =\n",
              "        document.querySelector('#' + key + ' button');\n",
              "      quickchartButtonEl.disabled = true;  // To prevent multiple clicks.\n",
              "      quickchartButtonEl.classList.add('colab-df-spinner');\n",
              "      try {\n",
              "        const charts = await google.colab.kernel.invokeFunction(\n",
              "            'suggestCharts', [key], {});\n",
              "      } catch (error) {\n",
              "        console.error('Error during call to suggestCharts:', error);\n",
              "      }\n",
              "      quickchartButtonEl.classList.remove('colab-df-spinner');\n",
              "      quickchartButtonEl.classList.add('colab-df-quickchart-complete');\n",
              "    }\n",
              "    (() => {\n",
              "      let quickchartButtonEl =\n",
              "        document.querySelector('#df-c87bdf43-ddd3-4c82-9b21-c99432dad892 button');\n",
              "      quickchartButtonEl.style.display =\n",
              "        google.colab.kernel.accessAllowed ? 'block' : 'none';\n",
              "    })();\n",
              "  </script>\n",
              "</div>\n",
              "    </div>\n",
              "  </div>\n"
            ]
          },
          "metadata": {}
        }
      ],
      "source": [
        "# Création du DataFrame_unknown\n",
        "unknown = {'Name': ['job', 'education', 'contact', 'poutcome', 'poutcome'],\n",
        "        'VND': ['unknown', 'unknown', 'unknown', 'unknown', 'other'],\n",
        "        '%': [1, 4, 21, 75, 5]}\n",
        "\n",
        "unknown = pd.DataFrame(unknown)\n",
        "\n",
        "display(unknown)"
      ]
    },
    {
      "cell_type": "markdown",
      "metadata": {
        "id": "CXKQencqm0F4"
      },
      "source": [
        "* représentation graphique de nos valeurs **unknown**"
      ]
    },
    {
      "cell_type": "code",
      "execution_count": 220,
      "metadata": {
        "colab": {
          "base_uri": "https://localhost:8080/",
          "height": 508
        },
        "id": "SgE5KYaJz0Y9",
        "outputId": "8ef5f8ff-4632-440c-a99b-d097a0d93f89"
      },
      "outputs": [
        {
          "output_type": "display_data",
          "data": {
            "text/plain": [
              "<Figure size 2000x500 with 4 Axes>"
            ],
            "image/png": "[encoded data removed]"
          },
          "metadata": {}
        }
      ],
      "source": [
        "fig, axs = plt.subplots(1, 4, figsize=(20, 5))  # Une ligne, quatre colonnes\n",
        "\n",
        "#1 ### Job\n",
        "axs[0].set_title('job')\n",
        "df['job'].value_counts().plot(\n",
        "    kind='bar',\n",
        "    color=['skyblue', 'skyblue', 'skyblue', 'skyblue', 'skyblue', 'skyblue', 'skyblue', 'skyblue', 'skyblue', 'skyblue', 'skyblue', 'lightcoral'],\n",
        "    ax=axs[0]\n",
        ")\n",
        "axs[0].set_ylabel('')\n",
        "axs[0].set_xlabel('')\n",
        "\n",
        "#2 ### Education\n",
        "axs[1].set_title('education')\n",
        "df['education'].value_counts().plot(\n",
        "    kind='bar',\n",
        "    color=['skyblue', 'skyblue', 'skyblue', 'lightcoral'],\n",
        "    ax=axs[1]\n",
        ")\n",
        "axs[1].set_ylabel('')\n",
        "axs[1].set_xlabel('')\n",
        "\n",
        "#3 ### Contact\n",
        "axs[2].set_title('contact')\n",
        "df['contact'].value_counts().plot(\n",
        "    kind='pie',\n",
        "    colors=['skyblue', 'lightcoral', 'lightgreen'],\n",
        "    autopct='%1.1f%%',\n",
        "    explode=(0.05, 0.05, 0.05),\n",
        "    ax=axs[2]\n",
        ")\n",
        "axs[2].set_ylabel('')\n",
        "axs[2].set_xlabel('')\n",
        "\n",
        "#4 ### Poutcome\n",
        "axs[3].set_title('poutcome')\n",
        "df['poutcome'].value_counts().plot(\n",
        "    kind='pie',\n",
        "    colors=['lightcoral', 'skyblue', 'lightgreen', 'lightcoral'],\n",
        "    autopct='%1.1f%%',\n",
        "    explode=(0.05, 0.05, 0.05, 0.05),\n",
        "    ax=axs[3]\n",
        ")\n",
        "axs[3].set_ylabel('')\n",
        "axs[3].set_xlabel('')\n",
        "\n",
        "fig.subplots_adjust(wspace=0.6, hspace=0.8)\n",
        "plt.show()\n"
      ]
    },
    {
      "cell_type": "markdown",
      "metadata": {
        "id": "aKsHy5lsxGVr"
      },
      "source": [
        "* Les graphiques précédents, représentent visuellement les valeurs **unknown** dans nos variables\n",
        "* Pour les colonnes '**job**', et '**education**' nous allons supprimer ces\n",
        "lignes car le % est très faible.\n",
        "* La colonne '**contact**' ne nous interesse pas dans notre cas metier, nous allons donc la supprimer.\n",
        "* Pour la colonne '**poutcome**', il semble ideal de créer une categorie pour regrouper les valeurs '**unknown**' et '**other**', qui représentent à eux deux 80%  "
      ]
    },
    {
      "cell_type": "markdown",
      "metadata": {
        "id": "Dkjq1L3i6G9Q"
      },
      "source": [
        "* Suppression des valeurs non désirées, et de la colonne contact\n"
      ]
    },
    {
      "cell_type": "code",
      "execution_count": 221,
      "metadata": {
        "id": "h-KftdWjyGtw"
      },
      "outputs": [],
      "source": [
        "# suppression de la colonne contact du dataframe\n",
        "\n",
        "df = df.drop('contact', axis=1)"
      ]
    },
    {
      "cell_type": "markdown",
      "source": [
        "* Dans la suite df_drop équivaut au dataset, nettoyé ou en cour de traitement de nettoyage"
      ],
      "metadata": {
        "id": "OHkYOwuiEgit"
      }
    },
    {
      "cell_type": "code",
      "execution_count": 222,
      "metadata": {
        "colab": {
          "base_uri": "https://localhost:8080/"
        },
        "id": "aBpc7DPC6jll",
        "outputId": "3c9c1fef-3c22-457e-d85e-32d20f10ec0c"
      },
      "outputs": [
        {
          "output_type": "execute_result",
          "data": {
            "text/plain": [
              "(11092, 16)"
            ]
          },
          "metadata": {},
          "execution_count": 222
        }
      ],
      "source": [
        "# suppresion des lignes lorsque variables \"job\" unknown\n",
        "\n",
        "df_drop = df[df['job'] != 'unknown']\n",
        "df_drop = df_drop.reset_index(drop=True)\n",
        "df_drop.shape"
      ]
    },
    {
      "cell_type": "code",
      "execution_count": 223,
      "metadata": {
        "colab": {
          "base_uri": "https://localhost:8080/"
        },
        "id": "Z3WTPokO8FTq",
        "outputId": "f880dcde-8e29-4304-9d53-13e7f7672de2"
      },
      "outputs": [
        {
          "output_type": "execute_result",
          "data": {
            "text/plain": [
              "(10634, 16)"
            ]
          },
          "metadata": {},
          "execution_count": 223
        }
      ],
      "source": [
        "# suppresion des lignes lorsque variables \"education\" = unknown\n",
        "\n",
        "df_drop = df_drop[df_drop['education'] != 'unknown']\n",
        "df_drop.shape"
      ]
    },
    {
      "cell_type": "code",
      "execution_count": 224,
      "metadata": {
        "colab": {
          "base_uri": "https://localhost:8080/"
        },
        "id": "qWGohv0t8Btc",
        "outputId": "0c408534-118b-4a03-8b44-0c749137ce85"
      },
      "outputs": [
        {
          "output_type": "stream",
          "name": "stdout",
          "text": [
            "Nous avons supprimé 528 lignes, soit 4.73 % des valeurs.\n"
          ]
        }
      ],
      "source": [
        "# Calcul du nombre\n",
        "\n",
        "rows_drop = df.shape[0] - df_drop.shape[0]\n",
        "print(f\"Nous avons supprimé {rows_drop} lignes, soit {round((rows_drop / df.shape[0] * 100), 2) } % des valeurs.\")"
      ]
    },
    {
      "cell_type": "markdown",
      "metadata": {
        "id": "AbYBe0K0Dokz"
      },
      "source": [
        "* Fusion de **other** et **unknown** de la colonne **poutcome**"
      ]
    },
    {
      "cell_type": "code",
      "execution_count": 225,
      "metadata": {
        "colab": {
          "base_uri": "https://localhost:8080/"
        },
        "id": "CQI8MW4jD7hI",
        "outputId": "4bd5e9f1-b7ba-4c0c-be16-b95ca78ebd24"
      },
      "outputs": [
        {
          "output_type": "execute_result",
          "data": {
            "text/plain": [
              "unknown    8453\n",
              "failure    1176\n",
              "success    1005\n",
              "Name: poutcome, dtype: int64"
            ]
          },
          "metadata": {},
          "execution_count": 225
        }
      ],
      "source": [
        "df_drop['poutcome'] = df_drop['poutcome'].replace('other', 'unknown')\n",
        "df_drop['poutcome'].value_counts()"
      ]
    },
    {
      "cell_type": "markdown",
      "metadata": {
        "id": "NkZkDVOOUsxF"
      },
      "source": [
        "## **3 - 2** Gestions des valeurs extrêmes et/ou obérantes\n"
      ]
    },
    {
      "cell_type": "markdown",
      "metadata": {
        "id": "7z6G7rRoJE05"
      },
      "source": [
        "### 3 - 2 - 1 Avant traitement\n"
      ]
    },
    {
      "cell_type": "markdown",
      "source": [
        "### - Représentation des boxplots des colonnes numériques en fonction de la réponse de déposit avant traitement des données"
      ],
      "metadata": {
        "id": "owHr8xtn6NHt"
      }
    },
    {
      "cell_type": "markdown",
      "metadata": {
        "id": "50SXAthEVOUc"
      },
      "source": [
        "* Représentations avec des boxplots, des variables numériques avant traitement\n",
        "\n"
      ]
    },
    {
      "cell_type": "code",
      "execution_count": 226,
      "metadata": {
        "colab": {
          "base_uri": "https://localhost:8080/",
          "height": 0
        },
        "id": "aC1UFlfTUrL8",
        "outputId": "fbf220fb-1d94-4c50-d489-f350f6ff0b16"
      },
      "outputs": [
        {
          "output_type": "display_data",
          "data": {
            "text/plain": [
              "<Figure size 1500x800 with 6 Axes>"
            ],
            "image/png": "[encoded data removed]"
          },
          "metadata": {}
        }
      ],
      "source": [
        "# Set the style\n",
        "sns.set(style=\"whitegrid\")\n",
        "\n",
        "# Columns list\n",
        "columns_num = ['age', 'balance', 'duration', 'campaign', 'pdays', 'previous']\n",
        "colors = {'yes': 'lightgreen', 'no': 'lightcoral'}\n",
        "\n",
        "# Create a figure and axis\n",
        "fig, axs = plt.subplots(2, 3, figsize=(15, 8))\n",
        "fig.suptitle('Boxplots des Colonnes Numériques / of Numeric Columns', fontsize=16)\n",
        "\n",
        "# Flatten the axis array for easy indexing\n",
        "axs = axs.flatten()\n",
        "\n",
        "# Plot boxplots\n",
        "for i, column in enumerate(columns_num):\n",
        "    sns.boxplot(x=df_drop[column],\n",
        "                y=df_drop['deposit'],\n",
        "                ax=axs[i],\n",
        "                palette=colors)\n",
        "    axs[i].set_title(column)\n",
        "    axs[i].set_xlabel(\"\")\n",
        "    axs[i].set_ylabel(\"\")\n",
        "\n",
        "# Adjust layout\n",
        "fig.subplots_adjust(top=0.9, wspace=0.4)\n",
        "plt.show()\n"
      ]
    },
    {
      "cell_type": "markdown",
      "source": [
        "### - Représentation des boxplots des colonnes numériques avant traitement des données"
      ],
      "metadata": {
        "id": "jPVnKzi16xGV"
      }
    },
    {
      "cell_type": "code",
      "source": [
        "# Set the style\n",
        "sns.set(style=\"whitegrid\")\n",
        "\n",
        "# Columns list\n",
        "columns_num = ['age', 'balance', 'duration', 'campaign', 'pdays', 'previous']\n",
        "colors = {'yes': 'lightgreen', 'no': 'lightcoral'}\n",
        "\n",
        "# Create a figure and axis\n",
        "fig, axs = plt.subplots(2, 3, figsize=(15, 8))\n",
        "fig.suptitle('Boxplots des Colonnes Numériques / of Numeric Columns avant traitement ', fontsize=16)\n",
        "\n",
        "# Flatten the axis array for easy indexing\n",
        "axs = axs.flatten()\n",
        "\n",
        "# Plot boxplots\n",
        "for i, column in enumerate(columns_num):\n",
        "    sns.boxplot(x=df_drop[column],\n",
        "                ax=axs[i]\n",
        "                )\n",
        "    axs[i].set_title(column)\n",
        "    axs[i].set_xlabel(\"\")\n",
        "    axs[i].set_ylabel(\"\")\n",
        "\n",
        "# Adjust layout\n",
        "fig.subplots_adjust(top=0.9, wspace=0.4)\n",
        "plt.show()\n"
      ],
      "metadata": {
        "colab": {
          "base_uri": "https://localhost:8080/",
          "height": 761
        },
        "id": "35KrxqKS7F-3",
        "outputId": "08ddd714-cd2a-47f2-cb6f-70d981c9a363"
      },
      "execution_count": 227,
      "outputs": [
        {
          "output_type": "display_data",
          "data": {
            "text/plain": [
              "<Figure size 1500x800 with 6 Axes>"
            ],
            "image/png": "[encoded data removed]"
          },
          "metadata": {}
        }
      ]
    },
    {
      "cell_type": "markdown",
      "metadata": {
        "id": "61X2h21kJRMd"
      },
      "source": [
        "* Calul des quartiles de chaques colonnes numériques"
      ]
    },
    {
      "cell_type": "code",
      "execution_count": 228,
      "metadata": {
        "colab": {
          "base_uri": "https://localhost:8080/",
          "height": 143
        },
        "id": "15uLppr4Mpsb",
        "outputId": "d3fa782d-eb01-414d-faa8-e9998e6be4ab"
      },
      "outputs": [
        {
          "output_type": "display_data",
          "data": {
            "text/plain": [
              "       age  balance  duration  campaign  pdays  previous\n",
              "0.25  32.0    119.0     138.0       1.0  -1.00       0.0\n",
              "0.50  38.0    542.0     255.0       2.0  -1.00       0.0\n",
              "0.75  49.0   1693.0     500.0       3.0  13.75       1.0"
            ],
            "text/html": [
              "\n",
              "  <div id=\"df-ba6f759b-06c6-4612-bc53-6634eb4d4a00\" class=\"colab-df-container\">\n",
              "    <div>\n",
              "<style scoped>\n",
              "    .dataframe tbody tr th:only-of-type {\n",
              "        vertical-align: middle;\n",
              "    }\n",
              "\n",
              "    .dataframe tbody tr th {\n",
              "        vertical-align: top;\n",
              "    }\n",
              "\n",
              "    .dataframe thead th {\n",
              "        text-align: right;\n",
              "    }\n",
              "</style>\n",
              "<table border=\"1\" class=\"dataframe\">\n",
              "  <thead>\n",
              "    <tr style=\"text-align: right;\">\n",
              "      <th></th>\n",
              "      <th>age</th>\n",
              "      <th>balance</th>\n",
              "      <th>duration</th>\n",
              "      <th>campaign</th>\n",
              "      <th>pdays</th>\n",
              "      <th>previous</th>\n",
              "    </tr>\n",
              "  </thead>\n",
              "  <tbody>\n",
              "    <tr>\n",
              "      <th>0.25</th>\n",
              "      <td>32.0</td>\n",
              "      <td>119.0</td>\n",
              "      <td>138.0</td>\n",
              "      <td>1.0</td>\n",
              "      <td>-1.00</td>\n",
              "      <td>0.0</td>\n",
              "    </tr>\n",
              "    <tr>\n",
              "      <th>0.50</th>\n",
              "      <td>38.0</td>\n",
              "      <td>542.0</td>\n",
              "      <td>255.0</td>\n",
              "      <td>2.0</td>\n",
              "      <td>-1.00</td>\n",
              "      <td>0.0</td>\n",
              "    </tr>\n",
              "    <tr>\n",
              "      <th>0.75</th>\n",
              "      <td>49.0</td>\n",
              "      <td>1693.0</td>\n",
              "      <td>500.0</td>\n",
              "      <td>3.0</td>\n",
              "      <td>13.75</td>\n",
              "      <td>1.0</td>\n",
              "    </tr>\n",
              "  </tbody>\n",
              "</table>\n",
              "</div>\n",
              "    <div class=\"colab-df-buttons\">\n",
              "\n",
              "  <div class=\"colab-df-container\">\n",
              "    <button class=\"colab-df-convert\" onclick=\"convertToInteractive('df-ba6f759b-06c6-4612-bc53-6634eb4d4a00')\"\n",
              "            title=\"Convert this dataframe to an interactive table.\"\n",
              "            style=\"display:none;\">\n",
              "\n",
              "  <svg xmlns=\"http://www.w3.org/2000/svg\" height=\"24px\" viewBox=\"0 -960 960 960\">\n",
              "    <path d=\"M120-120v-720h720v720H120Zm60-500h600v-160H180v160Zm220 220h160v-160H400v160Zm0 220h160v-160H400v160ZM180-400h160v-160H180v160Zm440 0h160v-160H620v160ZM180-180h160v-160H180v160Zm440 0h160v-160H620v160Z\"/>\n",
              "  </svg>\n",
              "    </button>\n",
              "\n",
              "  <style>\n",
              "    .colab-df-container {\n",
              "      display:flex;\n",
              "      gap: 12px;\n",
              "    }\n",
              "\n",
              "    .colab-df-convert {\n",
              "      background-color: #E8F0FE;\n",
              "      border: none;\n",
              "      border-radius: 50%;\n",
              "      cursor: pointer;\n",
              "      display: none;\n",
              "      fill: #1967D2;\n",
              "      height: 32px;\n",
              "      padding: 0 0 0 0;\n",
              "      width: 32px;\n",
              "    }\n",
              "\n",
              "    .colab-df-convert:hover {\n",
              "      background-color: #E2EBFA;\n",
              "      box-shadow: 0px 1px 2px rgba(60, 64, 67, 0.3), 0px 1px 3px 1px rgba(60, 64, 67, 0.15);\n",
              "      fill: #174EA6;\n",
              "    }\n",
              "\n",
              "    .colab-df-buttons div {\n",
              "      margin-bottom: 4px;\n",
              "    }\n",
              "\n",
              "    [theme=dark] .colab-df-convert {\n",
              "      background-color: #3B4455;\n",
              "      fill: #D2E3FC;\n",
              "    }\n",
              "\n",
              "    [theme=dark] .colab-df-convert:hover {\n",
              "      background-color: #434B5C;\n",
              "      box-shadow: 0px 1px 3px 1px rgba(0, 0, 0, 0.15);\n",
              "      filter: drop-shadow(0px 1px 2px rgba(0, 0, 0, 0.3));\n",
              "      fill: #FFFFFF;\n",
              "    }\n",
              "  </style>\n",
              "\n",
              "    <script>\n",
              "      const buttonEl =\n",
              "        document.querySelector('#df-ba6f759b-06c6-4612-bc53-6634eb4d4a00 button.colab-df-convert');\n",
              "      buttonEl.style.display =\n",
              "        google.colab.kernel.accessAllowed ? 'block' : 'none';\n",
              "\n",
              "      async function convertToInteractive(key) {\n",
              "        const element = document.querySelector('#df-ba6f759b-06c6-4612-bc53-6634eb4d4a00');\n",
              "        const dataTable =\n",
              "          await google.colab.kernel.invokeFunction('convertToInteractive',\n",
              "                                                    [key], {});\n",
              "        if (!dataTable) return;\n",
              "\n",
              "        const docLinkHtml = 'Like what you see? Visit the ' +\n",
              "          '<a target=\"_blank\" href=https://colab.research.google.com/notebooks/data_table.ipynb>data table notebook</a>'\n",
              "          + ' to learn more about interactive tables.';\n",
              "        element.innerHTML = '';\n",
              "        dataTable['output_type'] = 'display_data';\n",
              "        await google.colab.output.renderOutput(dataTable, element);\n",
              "        const docLink = document.createElement('div');\n",
              "        docLink.innerHTML = docLinkHtml;\n",
              "        element.appendChild(docLink);\n",
              "      }\n",
              "    </script>\n",
              "  </div>\n",
              "\n",
              "\n",
              "<div id=\"df-b9276fe1-8012-4a18-9dd4-62ecc93ba665\">\n",
              "  <button class=\"colab-df-quickchart\" onclick=\"quickchart('df-b9276fe1-8012-4a18-9dd4-62ecc93ba665')\"\n",
              "            title=\"Suggest charts\"\n",
              "            style=\"display:none;\">\n",
              "\n",
              "<svg xmlns=\"http://www.w3.org/2000/svg\" height=\"24px\"viewBox=\"0 0 24 24\"\n",
              "     width=\"24px\">\n",
              "    <g>\n",
              "        <path d=\"M19 3H5c-1.1 0-2 .9-2 2v14c0 1.1.9 2 2 2h14c1.1 0 2-.9 2-2V5c0-1.1-.9-2-2-2zM9 17H7v-7h2v7zm4 0h-2V7h2v10zm4 0h-2v-4h2v4z\"/>\n",
              "    </g>\n",
              "</svg>\n",
              "  </button>\n",
              "\n",
              "<style>\n",
              "  .colab-df-quickchart {\n",
              "      --bg-color: #E8F0FE;\n",
              "      --fill-color: #1967D2;\n",
              "      --hover-bg-color: #E2EBFA;\n",
              "      --hover-fill-color: #174EA6;\n",
              "      --disabled-fill-color: #AAA;\n",
              "      --disabled-bg-color: #DDD;\n",
              "  }\n",
              "\n",
              "  [theme=dark] .colab-df-quickchart {\n",
              "      --bg-color: #3B4455;\n",
              "      --fill-color: #D2E3FC;\n",
              "      --hover-bg-color: #434B5C;\n",
              "      --hover-fill-color: #FFFFFF;\n",
              "      --disabled-bg-color: #3B4455;\n",
              "      --disabled-fill-color: #666;\n",
              "  }\n",
              "\n",
              "  .colab-df-quickchart {\n",
              "    background-color: var(--bg-color);\n",
              "    border: none;\n",
              "    border-radius: 50%;\n",
              "    cursor: pointer;\n",
              "    display: none;\n",
              "    fill: var(--fill-color);\n",
              "    height: 32px;\n",
              "    padding: 0;\n",
              "    width: 32px;\n",
              "  }\n",
              "\n",
              "  .colab-df-quickchart:hover {\n",
              "    background-color: var(--hover-bg-color);\n",
              "    box-shadow: 0 1px 2px rgba(60, 64, 67, 0.3), 0 1px 3px 1px rgba(60, 64, 67, 0.15);\n",
              "    fill: var(--button-hover-fill-color);\n",
              "  }\n",
              "\n",
              "  .colab-df-quickchart-complete:disabled,\n",
              "  .colab-df-quickchart-complete:disabled:hover {\n",
              "    background-color: var(--disabled-bg-color);\n",
              "    fill: var(--disabled-fill-color);\n",
              "    box-shadow: none;\n",
              "  }\n",
              "\n",
              "  .colab-df-spinner {\n",
              "    border: 2px solid var(--fill-color);\n",
              "    border-color: transparent;\n",
              "    border-bottom-color: var(--fill-color);\n",
              "    animation:\n",
              "      spin 1s steps(1) infinite;\n",
              "  }\n",
              "\n",
              "  @keyframes spin {\n",
              "    0% {\n",
              "      border-color: transparent;\n",
              "      border-bottom-color: var(--fill-color);\n",
              "      border-left-color: var(--fill-color);\n",
              "    }\n",
              "    20% {\n",
              "      border-color: transparent;\n",
              "      border-left-color: var(--fill-color);\n",
              "      border-top-color: var(--fill-color);\n",
              "    }\n",
              "    30% {\n",
              "      border-color: transparent;\n",
              "      border-left-color: var(--fill-color);\n",
              "      border-top-color: var(--fill-color);\n",
              "      border-right-color: var(--fill-color);\n",
              "    }\n",
              "    40% {\n",
              "      border-color: transparent;\n",
              "      border-right-color: var(--fill-color);\n",
              "      border-top-color: var(--fill-color);\n",
              "    }\n",
              "    60% {\n",
              "      border-color: transparent;\n",
              "      border-right-color: var(--fill-color);\n",
              "    }\n",
              "    80% {\n",
              "      border-color: transparent;\n",
              "      border-right-color: var(--fill-color);\n",
              "      border-bottom-color: var(--fill-color);\n",
              "    }\n",
              "    90% {\n",
              "      border-color: transparent;\n",
              "      border-bottom-color: var(--fill-color);\n",
              "    }\n",
              "  }\n",
              "</style>\n",
              "\n",
              "  <script>\n",
              "    async function quickchart(key) {\n",
              "      const quickchartButtonEl =\n",
              "        document.querySelector('#' + key + ' button');\n",
              "      quickchartButtonEl.disabled = true;  // To prevent multiple clicks.\n",
              "      quickchartButtonEl.classList.add('colab-df-spinner');\n",
              "      try {\n",
              "        const charts = await google.colab.kernel.invokeFunction(\n",
              "            'suggestCharts', [key], {});\n",
              "      } catch (error) {\n",
              "        console.error('Error during call to suggestCharts:', error);\n",
              "      }\n",
              "      quickchartButtonEl.classList.remove('colab-df-spinner');\n",
              "      quickchartButtonEl.classList.add('colab-df-quickchart-complete');\n",
              "    }\n",
              "    (() => {\n",
              "      let quickchartButtonEl =\n",
              "        document.querySelector('#df-b9276fe1-8012-4a18-9dd4-62ecc93ba665 button');\n",
              "      quickchartButtonEl.style.display =\n",
              "        google.colab.kernel.accessAllowed ? 'block' : 'none';\n",
              "    })();\n",
              "  </script>\n",
              "</div>\n",
              "    </div>\n",
              "  </div>\n"
            ]
          },
          "metadata": {}
        }
      ],
      "source": [
        "quant = [0.25, 0.5, 0.75]\n",
        "quant_str = ['0.25', '0.5', '0.75']\n",
        "\n",
        "\n",
        "quartiles = df_drop[columns_num].quantile(quant)\n",
        "display(quartiles)"
      ]
    },
    {
      "cell_type": "markdown",
      "metadata": {
        "id": "FQxn_gNoRtXQ"
      },
      "source": [
        "* Calcul des quartiles sur chaque colonnes en fonction de la valeur de **deposit**"
      ]
    },
    {
      "cell_type": "code",
      "execution_count": 229,
      "metadata": {
        "colab": {
          "base_uri": "https://localhost:8080/",
          "height": 268
        },
        "id": "DvD1TDW6OTff",
        "outputId": "59921cb3-0d32-4d77-a7bd-25833cb38d83"
      },
      "outputs": [
        {
          "output_type": "display_data",
          "data": {
            "text/plain": [
              "               age  balance  duration  campaign  pdays  previous\n",
              "deposit                                                         \n",
              "no      0.25  33.0     63.0      94.0       1.0   -1.0       0.0\n",
              "        0.50  39.0    410.0     163.0       2.0   -1.0       0.0\n",
              "        0.75  48.0   1320.0     282.0       3.0   -1.0       0.0\n",
              "yes     0.25  31.0    203.0     243.0       1.0   -1.0       0.0\n",
              "        0.50  38.0    718.0     431.0       2.0   -1.0       0.0\n",
              "        0.75  50.0   2139.0     731.0       3.0   98.0       2.0"
            ],
            "text/html": [
              "\n",
              "  <div id=\"df-ad61b16b-37b8-4f9c-a75f-165771916704\" class=\"colab-df-container\">\n",
              "    <div>\n",
              "<style scoped>\n",
              "    .dataframe tbody tr th:only-of-type {\n",
              "        vertical-align: middle;\n",
              "    }\n",
              "\n",
              "    .dataframe tbody tr th {\n",
              "        vertical-align: top;\n",
              "    }\n",
              "\n",
              "    .dataframe thead th {\n",
              "        text-align: right;\n",
              "    }\n",
              "</style>\n",
              "<table border=\"1\" class=\"dataframe\">\n",
              "  <thead>\n",
              "    <tr style=\"text-align: right;\">\n",
              "      <th></th>\n",
              "      <th></th>\n",
              "      <th>age</th>\n",
              "      <th>balance</th>\n",
              "      <th>duration</th>\n",
              "      <th>campaign</th>\n",
              "      <th>pdays</th>\n",
              "      <th>previous</th>\n",
              "    </tr>\n",
              "    <tr>\n",
              "      <th>deposit</th>\n",
              "      <th></th>\n",
              "      <th></th>\n",
              "      <th></th>\n",
              "      <th></th>\n",
              "      <th></th>\n",
              "      <th></th>\n",
              "      <th></th>\n",
              "    </tr>\n",
              "  </thead>\n",
              "  <tbody>\n",
              "    <tr>\n",
              "      <th rowspan=\"3\" valign=\"top\">no</th>\n",
              "      <th>0.25</th>\n",
              "      <td>33.0</td>\n",
              "      <td>63.0</td>\n",
              "      <td>94.0</td>\n",
              "      <td>1.0</td>\n",
              "      <td>-1.0</td>\n",
              "      <td>0.0</td>\n",
              "    </tr>\n",
              "    <tr>\n",
              "      <th>0.50</th>\n",
              "      <td>39.0</td>\n",
              "      <td>410.0</td>\n",
              "      <td>163.0</td>\n",
              "      <td>2.0</td>\n",
              "      <td>-1.0</td>\n",
              "      <td>0.0</td>\n",
              "    </tr>\n",
              "    <tr>\n",
              "      <th>0.75</th>\n",
              "      <td>48.0</td>\n",
              "      <td>1320.0</td>\n",
              "      <td>282.0</td>\n",
              "      <td>3.0</td>\n",
              "      <td>-1.0</td>\n",
              "      <td>0.0</td>\n",
              "    </tr>\n",
              "    <tr>\n",
              "      <th rowspan=\"3\" valign=\"top\">yes</th>\n",
              "      <th>0.25</th>\n",
              "      <td>31.0</td>\n",
              "      <td>203.0</td>\n",
              "      <td>243.0</td>\n",
              "      <td>1.0</td>\n",
              "      <td>-1.0</td>\n",
              "      <td>0.0</td>\n",
              "    </tr>\n",
              "    <tr>\n",
              "      <th>0.50</th>\n",
              "      <td>38.0</td>\n",
              "      <td>718.0</td>\n",
              "      <td>431.0</td>\n",
              "      <td>2.0</td>\n",
              "      <td>-1.0</td>\n",
              "      <td>0.0</td>\n",
              "    </tr>\n",
              "    <tr>\n",
              "      <th>0.75</th>\n",
              "      <td>50.0</td>\n",
              "      <td>2139.0</td>\n",
              "      <td>731.0</td>\n",
              "      <td>3.0</td>\n",
              "      <td>98.0</td>\n",
              "      <td>2.0</td>\n",
              "    </tr>\n",
              "  </tbody>\n",
              "</table>\n",
              "</div>\n",
              "    <div class=\"colab-df-buttons\">\n",
              "\n",
              "  <div class=\"colab-df-container\">\n",
              "    <button class=\"colab-df-convert\" onclick=\"convertToInteractive('df-ad61b16b-37b8-4f9c-a75f-165771916704')\"\n",
              "            title=\"Convert this dataframe to an interactive table.\"\n",
              "            style=\"display:none;\">\n",
              "\n",
              "  <svg xmlns=\"http://www.w3.org/2000/svg\" height=\"24px\" viewBox=\"0 -960 960 960\">\n",
              "    <path d=\"M120-120v-720h720v720H120Zm60-500h600v-160H180v160Zm220 220h160v-160H400v160Zm0 220h160v-160H400v160ZM180-400h160v-160H180v160Zm440 0h160v-160H620v160ZM180-180h160v-160H180v160Zm440 0h160v-160H620v160Z\"/>\n",
              "  </svg>\n",
              "    </button>\n",
              "\n",
              "  <style>\n",
              "    .colab-df-container {\n",
              "      display:flex;\n",
              "      gap: 12px;\n",
              "    }\n",
              "\n",
              "    .colab-df-convert {\n",
              "      background-color: #E8F0FE;\n",
              "      border: none;\n",
              "      border-radius: 50%;\n",
              "      cursor: pointer;\n",
              "      display: none;\n",
              "      fill: #1967D2;\n",
              "      height: 32px;\n",
              "      padding: 0 0 0 0;\n",
              "      width: 32px;\n",
              "    }\n",
              "\n",
              "    .colab-df-convert:hover {\n",
              "      background-color: #E2EBFA;\n",
              "      box-shadow: 0px 1px 2px rgba(60, 64, 67, 0.3), 0px 1px 3px 1px rgba(60, 64, 67, 0.15);\n",
              "      fill: #174EA6;\n",
              "    }\n",
              "\n",
              "    .colab-df-buttons div {\n",
              "      margin-bottom: 4px;\n",
              "    }\n",
              "\n",
              "    [theme=dark] .colab-df-convert {\n",
              "      background-color: #3B4455;\n",
              "      fill: #D2E3FC;\n",
              "    }\n",
              "\n",
              "    [theme=dark] .colab-df-convert:hover {\n",
              "      background-color: #434B5C;\n",
              "      box-shadow: 0px 1px 3px 1px rgba(0, 0, 0, 0.15);\n",
              "      filter: drop-shadow(0px 1px 2px rgba(0, 0, 0, 0.3));\n",
              "      fill: #FFFFFF;\n",
              "    }\n",
              "  </style>\n",
              "\n",
              "    <script>\n",
              "      const buttonEl =\n",
              "        document.querySelector('#df-ad61b16b-37b8-4f9c-a75f-165771916704 button.colab-df-convert');\n",
              "      buttonEl.style.display =\n",
              "        google.colab.kernel.accessAllowed ? 'block' : 'none';\n",
              "\n",
              "      async function convertToInteractive(key) {\n",
              "        const element = document.querySelector('#df-ad61b16b-37b8-4f9c-a75f-165771916704');\n",
              "        const dataTable =\n",
              "          await google.colab.kernel.invokeFunction('convertToInteractive',\n",
              "                                                    [key], {});\n",
              "        if (!dataTable) return;\n",
              "\n",
              "        const docLinkHtml = 'Like what you see? Visit the ' +\n",
              "          '<a target=\"_blank\" href=https://colab.research.google.com/notebooks/data_table.ipynb>data table notebook</a>'\n",
              "          + ' to learn more about interactive tables.';\n",
              "        element.innerHTML = '';\n",
              "        dataTable['output_type'] = 'display_data';\n",
              "        await google.colab.output.renderOutput(dataTable, element);\n",
              "        const docLink = document.createElement('div');\n",
              "        docLink.innerHTML = docLinkHtml;\n",
              "        element.appendChild(docLink);\n",
              "      }\n",
              "    </script>\n",
              "  </div>\n",
              "\n",
              "\n",
              "<div id=\"df-cd2224ac-d40a-4777-a546-13ff0e996770\">\n",
              "  <button class=\"colab-df-quickchart\" onclick=\"quickchart('df-cd2224ac-d40a-4777-a546-13ff0e996770')\"\n",
              "            title=\"Suggest charts\"\n",
              "            style=\"display:none;\">\n",
              "\n",
              "<svg xmlns=\"http://www.w3.org/2000/svg\" height=\"24px\"viewBox=\"0 0 24 24\"\n",
              "     width=\"24px\">\n",
              "    <g>\n",
              "        <path d=\"M19 3H5c-1.1 0-2 .9-2 2v14c0 1.1.9 2 2 2h14c1.1 0 2-.9 2-2V5c0-1.1-.9-2-2-2zM9 17H7v-7h2v7zm4 0h-2V7h2v10zm4 0h-2v-4h2v4z\"/>\n",
              "    </g>\n",
              "</svg>\n",
              "  </button>\n",
              "\n",
              "<style>\n",
              "  .colab-df-quickchart {\n",
              "      --bg-color: #E8F0FE;\n",
              "      --fill-color: #1967D2;\n",
              "      --hover-bg-color: #E2EBFA;\n",
              "      --hover-fill-color: #174EA6;\n",
              "      --disabled-fill-color: #AAA;\n",
              "      --disabled-bg-color: #DDD;\n",
              "  }\n",
              "\n",
              "  [theme=dark] .colab-df-quickchart {\n",
              "      --bg-color: #3B4455;\n",
              "      --fill-color: #D2E3FC;\n",
              "      --hover-bg-color: #434B5C;\n",
              "      --hover-fill-color: #FFFFFF;\n",
              "      --disabled-bg-color: #3B4455;\n",
              "      --disabled-fill-color: #666;\n",
              "  }\n",
              "\n",
              "  .colab-df-quickchart {\n",
              "    background-color: var(--bg-color);\n",
              "    border: none;\n",
              "    border-radius: 50%;\n",
              "    cursor: pointer;\n",
              "    display: none;\n",
              "    fill: var(--fill-color);\n",
              "    height: 32px;\n",
              "    padding: 0;\n",
              "    width: 32px;\n",
              "  }\n",
              "\n",
              "  .colab-df-quickchart:hover {\n",
              "    background-color: var(--hover-bg-color);\n",
              "    box-shadow: 0 1px 2px rgba(60, 64, 67, 0.3), 0 1px 3px 1px rgba(60, 64, 67, 0.15);\n",
              "    fill: var(--button-hover-fill-color);\n",
              "  }\n",
              "\n",
              "  .colab-df-quickchart-complete:disabled,\n",
              "  .colab-df-quickchart-complete:disabled:hover {\n",
              "    background-color: var(--disabled-bg-color);\n",
              "    fill: var(--disabled-fill-color);\n",
              "    box-shadow: none;\n",
              "  }\n",
              "\n",
              "  .colab-df-spinner {\n",
              "    border: 2px solid var(--fill-color);\n",
              "    border-color: transparent;\n",
              "    border-bottom-color: var(--fill-color);\n",
              "    animation:\n",
              "      spin 1s steps(1) infinite;\n",
              "  }\n",
              "\n",
              "  @keyframes spin {\n",
              "    0% {\n",
              "      border-color: transparent;\n",
              "      border-bottom-color: var(--fill-color);\n",
              "      border-left-color: var(--fill-color);\n",
              "    }\n",
              "    20% {\n",
              "      border-color: transparent;\n",
              "      border-left-color: var(--fill-color);\n",
              "      border-top-color: var(--fill-color);\n",
              "    }\n",
              "    30% {\n",
              "      border-color: transparent;\n",
              "      border-left-color: var(--fill-color);\n",
              "      border-top-color: var(--fill-color);\n",
              "      border-right-color: var(--fill-color);\n",
              "    }\n",
              "    40% {\n",
              "      border-color: transparent;\n",
              "      border-right-color: var(--fill-color);\n",
              "      border-top-color: var(--fill-color);\n",
              "    }\n",
              "    60% {\n",
              "      border-color: transparent;\n",
              "      border-right-color: var(--fill-color);\n",
              "    }\n",
              "    80% {\n",
              "      border-color: transparent;\n",
              "      border-right-color: var(--fill-color);\n",
              "      border-bottom-color: var(--fill-color);\n",
              "    }\n",
              "    90% {\n",
              "      border-color: transparent;\n",
              "      border-bottom-color: var(--fill-color);\n",
              "    }\n",
              "  }\n",
              "</style>\n",
              "\n",
              "  <script>\n",
              "    async function quickchart(key) {\n",
              "      const quickchartButtonEl =\n",
              "        document.querySelector('#' + key + ' button');\n",
              "      quickchartButtonEl.disabled = true;  // To prevent multiple clicks.\n",
              "      quickchartButtonEl.classList.add('colab-df-spinner');\n",
              "      try {\n",
              "        const charts = await google.colab.kernel.invokeFunction(\n",
              "            'suggestCharts', [key], {});\n",
              "      } catch (error) {\n",
              "        console.error('Error during call to suggestCharts:', error);\n",
              "      }\n",
              "      quickchartButtonEl.classList.remove('colab-df-spinner');\n",
              "      quickchartButtonEl.classList.add('colab-df-quickchart-complete');\n",
              "    }\n",
              "    (() => {\n",
              "      let quickchartButtonEl =\n",
              "        document.querySelector('#df-cd2224ac-d40a-4777-a546-13ff0e996770 button');\n",
              "      quickchartButtonEl.style.display =\n",
              "        google.colab.kernel.accessAllowed ? 'block' : 'none';\n",
              "    })();\n",
              "  </script>\n",
              "</div>\n",
              "    </div>\n",
              "  </div>\n"
            ]
          },
          "metadata": {}
        }
      ],
      "source": [
        "quant = [0.25, 0.5, 0.75]\n",
        "\n",
        "quartiles_grouped = df_drop.groupby('deposit')[columns_num].quantile(quant)\n",
        "display(quartiles_grouped)"
      ]
    },
    {
      "cell_type": "markdown",
      "metadata": {
        "id": "JxWT3BW5lq0a"
      },
      "source": [
        "### 3 - 2 - 2 Calcul des seuils IQR (manuel)\n",
        "\n"
      ]
    },
    {
      "cell_type": "code",
      "execution_count": 230,
      "metadata": {
        "id": "_45ZmY5KS5Cs"
      },
      "outputs": [],
      "source": [
        "# Initialiser des dictionnaires pour stocker les quantiles de chaque colonne\n",
        "quant_1 = {}\n",
        "quant_2 = {}\n",
        "quant_3 = {}\n",
        "\n",
        "col_num = ['age', 'balance', 'duration', 'campaign']\n",
        "df_drop_num = df_drop[col_num]\n",
        "\n",
        "# Boucle pour calculer les quantiles pour chaque colonne\n",
        "for column in df_drop_num.columns:\n",
        "    quantiles_column = df_drop_num[column].quantile(quant)\n",
        "    quant_1[column] = quantiles_column.iloc[0]\n",
        "    quant_2[column] = quantiles_column.iloc[1]\n",
        "    quant_3[column] = quantiles_column.iloc[2]\n"
      ]
    },
    {
      "cell_type": "code",
      "execution_count": 231,
      "metadata": {
        "colab": {
          "base_uri": "https://localhost:8080/"
        },
        "id": "EDfDkgC-f55t",
        "outputId": "351f9d7a-c3cf-4f04-92b4-3a9ac8197517"
      },
      "outputs": [
        {
          "output_type": "stream",
          "name": "stdout",
          "text": [
            "IQR_age 17.0\n",
            "IQR_balance 1574.0\n",
            "IQR_duration 362.0\n",
            "IQR_campaign 2.0\n",
            "IQR_sup_age 74.5\n",
            "IQR_sup_balance 4054.0\n",
            "IQR_sup_duration 1043.0\n",
            "IQR_sup_campaign 6.0\n",
            "IQR_inf_age 6.5\n",
            "IQR_inf_balance -2242.0\n",
            "IQR_inf_duration -405.0\n",
            "IQR_inf_campaign -2.0\n"
          ]
        }
      ],
      "source": [
        "IQR_age = quant_3['age'] - quant_1['age']\n",
        "IQR_balance = quant_3['balance'] - quant_1['balance']\n",
        "IQR_duration = quant_3['duration'] - quant_1['duration']\n",
        "IQR_campaign = quant_3['campaign'] - quant_1['campaign']\n",
        "\n",
        "IQR_sup_age = quant_3['age'] + (1.5 * IQR_age)\n",
        "IQR_sup_balance = quant_3['balance'] + (1.5 * IQR_balance)\n",
        "IQR_sup_duration = quant_3['duration'] + (1.5 * IQR_duration)\n",
        "IQR_sup_campaign = quant_3['campaign'] + (1.5 * IQR_campaign)\n",
        "\n",
        "IQR_inf_age = quant_1['age'] - (1.5 * IQR_age)\n",
        "IQR_inf_balance = quant_1['balance'] - (1.5 * IQR_balance)\n",
        "IQR_inf_duration = quant_1['duration'] - (1.5 * IQR_duration)\n",
        "IQR_inf_campaign = quant_1['campaign'] - (1.5 * IQR_campaign)\n",
        "\n",
        "print('IQR_age', IQR_age )\n",
        "print('IQR_balance', IQR_balance )\n",
        "print('IQR_duration', IQR_duration )\n",
        "print('IQR_campaign', IQR_campaign )\n",
        "\n",
        "print('IQR_sup_age', IQR_sup_age )\n",
        "print('IQR_sup_balance', IQR_sup_balance )\n",
        "print('IQR_sup_duration', IQR_sup_duration )\n",
        "print('IQR_sup_campaign', IQR_sup_campaign )\n",
        "\n",
        "print('IQR_inf_age', IQR_inf_age )\n",
        "print('IQR_inf_balance', IQR_inf_balance )\n",
        "print('IQR_inf_duration', IQR_inf_duration )\n",
        "print('IQR_inf_campaign', IQR_inf_campaign )"
      ]
    },
    {
      "cell_type": "markdown",
      "metadata": {
        "id": "eS4X2htvl31Q"
      },
      "source": [
        "### 3 - 2 - 3 Calcul des seuils IQR (avec fonction)\n"
      ]
    },
    {
      "cell_type": "code",
      "execution_count": 232,
      "metadata": {
        "colab": {
          "base_uri": "https://localhost:8080/"
        },
        "id": "nkyx1nx1jbLJ",
        "outputId": "fea21288-c9f0-42e9-8f4e-c83cd8141153"
      },
      "outputs": [
        {
          "output_type": "stream",
          "name": "stdout",
          "text": [
            "IQR_age: 17.0\n",
            "IQR_balance: 1574.0\n",
            "IQR_duration: 362.0\n",
            "IQR_campaign: 2.0\n",
            "IQR_sup_age: 74.5\n",
            "IQR_sup_balance: 4054.0\n",
            "IQR_sup_duration: 1043.0\n",
            "IQR_sup_campaign: 6.0\n",
            "IQR_inf_age: 6.5\n",
            "IQR_inf_balance: -2242.0\n",
            "IQR_inf_duration: -405.0\n",
            "IQR_inf_campaign: -2.0\n"
          ]
        }
      ],
      "source": [
        "def calculate_iqr(df, columns, quantiles):\n",
        "    \"\"\"\n",
        "    Calcule les valeurs de l'IQR (Interquartile Range) ainsi que les bornes supérieures et inférieures pour chaque colonne spécifiée.\n",
        "\n",
        "    Parameters:\n",
        "    - df (DataFrame): Le DataFrame contenant les données numérique.\n",
        "    - columns (list): La liste des colonnes pour lesquelles calculer les valeurs. col_num = ['a remplir]\n",
        "    - quantiles (list): La liste des quantiles à calculer. quant = ['a remplir']\n",
        "\n",
        "    Returns:\n",
        "    - dict: Un dictionnaire contenant les valeurs de l'IQR, les bornes supérieures et inférieures pour chaque colonne spécifiée.\n",
        "    - pour y acceder : result_iqr[...]\n",
        "    \"\"\"\n",
        "\n",
        "    quant_1 = {}\n",
        "    quant_3 = {}\n",
        "\n",
        "    # Boucle pour calculer les quantiles pour chaque colonne numérique\n",
        "    for column in columns:\n",
        "        quantiles_column = df[column].quantile(quantiles)\n",
        "        quant_1[column] = quantiles_column.iloc[0]\n",
        "        quant_3[column] = quantiles_column.iloc[2]\n",
        "\n",
        "    # Calculer les IQR\n",
        "    iqr_values = {f'IQR_{column}': quant_3[column] - quant_1[column] for column in columns}\n",
        "\n",
        "    # Calculer les bornes supérieures et inférieures pour chaque colonne\n",
        "    iqr_sup_values = {f'IQR_sup_{column}': quant_3[column] + (1.5 * iqr_values[f'IQR_{column}']) for column in columns}\n",
        "    iqr_inf_values = {f'IQR_inf_{column}': quant_1[column] - (1.5 * iqr_values[f'IQR_{column}']) for column in columns}\n",
        "\n",
        "    return {**iqr_values, **iqr_sup_values, **iqr_inf_values}\n",
        "\n",
        "\n",
        "col_num = ['age', 'balance', 'duration', 'campaign']\n",
        "quant = [0.25, 0.5, 0.75]\n",
        "\n",
        "result_iqr = calculate_iqr(df_drop_num, col_num, quant)\n",
        "\n",
        "# Afficher les résultats\n",
        "for key, value in result_iqr.items():\n",
        "    print(f\"{key}: {value}\")"
      ]
    },
    {
      "cell_type": "markdown",
      "metadata": {
        "id": "BZ44-7mwCa5B"
      },
      "source": [
        "### 3 - 2 - 4 Suppression des outliers"
      ]
    },
    {
      "cell_type": "code",
      "execution_count": 233,
      "metadata": {
        "colab": {
          "base_uri": "https://localhost:8080/"
        },
        "id": "c16eFAPwITQ4",
        "outputId": "206640f0-376d-4f70-bd41-be984c54dce1"
      },
      "outputs": [
        {
          "output_type": "stream",
          "name": "stdout",
          "text": [
            "Nous avons supprimé 23.88 % des lignes de notre dataframe\n"
          ]
        }
      ],
      "source": [
        "df_drop = df_drop[(df_drop['age'] >= IQR_inf_age) & (df_drop['age'] <= IQR_sup_age)]\n",
        "df_drop = df_drop[(df_drop['balance'] >= IQR_inf_balance) & (df_drop['balance'] <= IQR_sup_balance)]\n",
        "df_drop = df_drop[(df_drop['duration'] >= IQR_inf_duration) & (df_drop['duration'] <= IQR_sup_duration)]\n",
        "df_drop = df_drop[(df_drop['campaign'] >= IQR_inf_campaign) & (df_drop['campaign'] <= IQR_sup_campaign)]\n",
        "\n",
        "print(\"Nous avons supprimé\", round((100 - (df_drop.shape[0] * 100) / df.shape[0]), 2), \"% des lignes de notre dataframe\")"
      ]
    },
    {
      "cell_type": "markdown",
      "metadata": {
        "id": "6SExU-zFoYDf"
      },
      "source": [
        "### 3 - 2 - 5 Représentation des boxplots après traitement des outliers"
      ]
    },
    {
      "cell_type": "code",
      "execution_count": 234,
      "metadata": {
        "colab": {
          "base_uri": "https://localhost:8080/",
          "height": 0
        },
        "id": "TA-eu3SnnjJG",
        "outputId": "4f520cf6-2906-457a-a51a-4ee670eb4696"
      },
      "outputs": [
        {
          "output_type": "display_data",
          "data": {
            "text/plain": [
              "<Figure size 1500x800 with 6 Axes>"
            ],
            "image/png": "[encoded data removed]"
          },
          "metadata": {}
        }
      ],
      "source": [
        "# Set the style\n",
        "sns.set(style=\"whitegrid\")\n",
        "\n",
        "# Columns list\n",
        "columns_num = ['age', 'balance', 'duration', 'campaign', 'pdays', 'previous']\n",
        "colors = {'yes': 'lightgreen', 'no': 'lightcoral'}\n",
        "\n",
        "# Create a figure and axis\n",
        "fig, axs = plt.subplots(2, 3, figsize=(15, 8))\n",
        "fig.suptitle('Boxplots des Colonnes Numériques / of Numeric Columns', fontsize=16)\n",
        "\n",
        "# Flatten the axis array for easy indexing\n",
        "axs = axs.flatten()\n",
        "\n",
        "# Plot boxplots\n",
        "for i, column in enumerate(columns_num):\n",
        "    sns.boxplot(x=df_drop[column],\n",
        "                ax=axs[i]\n",
        "                )\n",
        "    axs[i].set_title(column)\n",
        "    axs[i].set_xlabel(\"\")\n",
        "    axs[i].set_ylabel(\"\")\n",
        "\n",
        "# Adjust layout\n",
        "fig.subplots_adjust(top=0.9, wspace=0.4)\n",
        "plt.show()\n"
      ]
    },
    {
      "cell_type": "code",
      "execution_count": 235,
      "metadata": {
        "colab": {
          "base_uri": "https://localhost:8080/"
        },
        "id": "AvYk-6Jo4tmS",
        "outputId": "7d4ce1dc-08ea-48b6-e854-0cf7470ed2f9"
      },
      "outputs": [
        {
          "output_type": "execute_result",
          "data": {
            "text/plain": [
              "Index(['age', 'job', 'marital', 'education', 'default', 'balance', 'housing',\n",
              "       'loan', 'day', 'month', 'duration', 'campaign', 'pdays', 'previous',\n",
              "       'poutcome', 'deposit'],\n",
              "      dtype='object')"
            ]
          },
          "metadata": {},
          "execution_count": 235
        }
      ],
      "source": [
        "df_drop.columns\n"
      ]
    },
    {
      "cell_type": "markdown",
      "metadata": {
        "id": "fK4kw5y0GAmd"
      },
      "source": [
        "# **4** : Observation de nos diférentes varibles en fct de la variable cible : **Deposit**\n"
      ]
    },
    {
      "cell_type": "markdown",
      "source": [
        "### Variable deposit sur l'ensemble du dataset"
      ],
      "metadata": {
        "id": "0Tx5DlIT_Rc6"
      }
    },
    {
      "cell_type": "code",
      "execution_count": 236,
      "metadata": {
        "colab": {
          "base_uri": "https://localhost:8080/",
          "height": 429
        },
        "id": "nU92WcXqF_1O",
        "outputId": "7a9aa8eb-10ed-45aa-ee41-62577ba7d685"
      },
      "outputs": [
        {
          "output_type": "display_data",
          "data": {
            "text/plain": [
              "<Figure size 640x480 with 1 Axes>"
            ],
            "image/png": "[encoded data removed]"
          },
          "metadata": {}
        }
      ],
      "source": [
        "plt.title('Soubscription a un dépot ?')\n",
        "df_drop['deposit'].value_counts().plot(\n",
        "        kind= 'pie',\n",
        "        colors= ['lightcoral', 'lightgreen'],\n",
        "        autopct='%1.1f%%',\n",
        "        explode= (0.05, 0.05))\n",
        "plt.ylabel('')\n",
        "plt.xlabel('')\n",
        "plt.show()"
      ]
    },
    {
      "cell_type": "markdown",
      "source": [
        "### Varibles **éducation, marital, job, poutcome** en fonction de **Deposit**"
      ],
      "metadata": {
        "id": "NcnI9Sp4ACsH"
      }
    },
    {
      "cell_type": "code",
      "source": [
        "#### education\n",
        "fig, axes = plt.subplots(2, 2, figsize=(14, 10))\n",
        "\n",
        "# 1\n",
        "sns.countplot(x= \"education\", hue=\"deposit\", data=df_drop, ax=axes[0,0])\n",
        "axes[0,0].set_title('Education')\n",
        "axes[0,0].set_xlabel('')\n",
        "axes[0,0].tick_params(axis= 'x', labelsize= 8)\n",
        "\n",
        "# 2\n",
        "sns.countplot(x= \"marital\", hue=\"deposit\", data=df_drop, ax=axes[0,1])\n",
        "axes[0,1].set_title('Marital')\n",
        "axes[0,1].set_xlabel('')\n",
        "axes[0,1].tick_params(axis= 'x', labelsize= 8)\n",
        "\n",
        "# 3\n",
        "order_job = df_drop['job'].value_counts().index\n",
        "sns.countplot(x=\"job\", hue=\"deposit\", data=df_drop, ax=axes[1, 0], order=order_job)\n",
        "axes[1,0].set_title('Job')\n",
        "axes[1,0].set_xlabel('')\n",
        "axes[1,0].tick_params(axis= 'x', labelsize= 8)\n",
        "axes[1,0].set_xticklabels(axes[1,0].get_xticklabels(), rotation=90, ha=\"right\")\n",
        "\n",
        "# 4\n",
        "sns.countplot(x= \"poutcome\", hue=\"deposit\", data=df_drop, ax=axes[1,1])\n",
        "axes[1,1].set_title('poutcome')\n",
        "axes[1,1].set_xlabel('')\n",
        "axes[1,1].tick_params(axis= 'x', labelsize= 8)\n",
        "axes[1,1].set_xticklabels(axes[1,1].get_xticklabels(), rotation=90, ha=\"right\")\n",
        "\n",
        "fig.subplots_adjust(wspace= 0.5, hspace= 0.5)\n",
        "plt.show()"
      ],
      "metadata": {
        "id": "8ZBAvncaAIV_"
      },
      "execution_count": null,
      "outputs": []
    },
    {
      "cell_type": "markdown",
      "source": [
        "* Es ce qu'il y a des choses intéréssantes à tirer comme observations ?\n",
        "\n",
        "\n"
      ],
      "metadata": {
        "id": "oJ7S3IEKA87T"
      }
    },
    {
      "cell_type": "code",
      "source": [],
      "metadata": {
        "id": "ygVDmVTGJLVU"
      },
      "execution_count": null,
      "outputs": []
    },
    {
      "cell_type": "markdown",
      "source": [
        "# **5** : Explorations statistiques\n"
      ],
      "metadata": {
        "id": "ymNWUqGRJOtk"
      }
    }
  ],
  "metadata": {
    "colab": {
      "collapsed_sections": [
        "8oZcrRu6nXkZ",
        "4MqaQ-7AGnJD",
        "02zZ4ZQfuI_W",
        "1Ld5njsTFjvd",
        "owHr8xtn6NHt",
        "JxWT3BW5lq0a",
        "6SExU-zFoYDf",
        "fK4kw5y0GAmd"
      ],
      "provenance": [],
      "authorship_tag": "ABX9TyMkXlHbKphnoGtGyLm5qN1r",
      "include_colab_link": true
    },
    "kernelspec": {
      "display_name": "Python 3",
      "name": "python3"
    },
    "language_info": {
      "name": "python"
    }
  },
  "nbformat": 4,
  "nbformat_minor": 0
}